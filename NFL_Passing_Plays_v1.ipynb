{
 "cells": [
  {
   "cell_type": "markdown",
   "metadata": {},
   "source": [
    "# NFL Big Data - ETL & Model\n",
    "\n",
    "## Overview\n",
    "- Attempting to build a dataset with categorical inputs from plays and week1 datasets \n",
    "    - create game and play id variable\n",
    "    - encoding different variables, setting play action/motion from event to variable\n",
    "- Create 4 Event time snapshots for players on the field\n",
    "    - Line set\n",
    "    - Ball snap\n",
    "    - Pass forward\n",
    "    - Pass arrived\n",
    "- Merge data\n",
    "- Target classification variable\n",
    "    - Pass Outcome\n",
    "        - Incomplete\n",
    "        - Complete\n",
    "        - TD\n",
    "        - INT"
   ]
  },
  {
   "cell_type": "code",
   "execution_count": 1,
   "metadata": {},
   "outputs": [],
   "source": [
    "import sys\n",
    "import pandas as pd\n",
    "import numpy as np\n",
    "import os\n",
    "import matplotlib.pyplot as plt\n",
    "from mpl_toolkits.mplot3d import Axes3D\n",
    "import matplotlib.patches as patches\n",
    "import seaborn as sns\n",
    "import re\n",
    "from datetime import date, datetime\n",
    "import glob\n",
    "import plotly.figure_factory as ff\n",
    "from scipy.spatial import distance\n",
    "from scipy.spatial import Voronoi, voronoi_plot_2d\n",
    "from matplotlib.animation import FuncAnimation"
   ]
  },
  {
   "cell_type": "code",
   "execution_count": 2,
   "metadata": {},
   "outputs": [
    {
     "data": {
      "text/plain": [
       "'/home/tguardi/Projects/NFL_Big_Data'"
      ]
     },
     "execution_count": 2,
     "metadata": {},
     "output_type": "execute_result"
    }
   ],
   "source": [
    "pwd"
   ]
  },
  {
   "cell_type": "code",
   "execution_count": 3,
   "metadata": {
    "scrolled": true
   },
   "outputs": [],
   "source": [
    "path = \"/home/tguardi/Projects/NFL_Big_Data\""
   ]
  },
  {
   "cell_type": "markdown",
   "metadata": {},
   "source": [
    "# Load Data"
   ]
  },
  {
   "cell_type": "code",
   "execution_count": 4,
   "metadata": {},
   "outputs": [],
   "source": [
    "week1 = pd.read_csv(path + \"/week1.csv\")\n",
    "plays = pd.read_csv(path + '/plays.csv')"
   ]
  },
  {
   "cell_type": "markdown",
   "metadata": {},
   "source": [
    "#### Create game/play id variable"
   ]
  },
  {
   "cell_type": "code",
   "execution_count": 5,
   "metadata": {},
   "outputs": [],
   "source": [
    "#Create additional column on week1 for a unique identifier of gameId and playId\n",
    "week1['gp'] = week1['gameId'].astype(str)+ '_' + week1['playId'].astype(str)\n",
    "plays['gp'] = plays['gameId'].astype(str)+ '_' + plays['playId'].astype(str)"
   ]
  },
  {
   "cell_type": "markdown",
   "metadata": {},
   "source": [
    "# Pipeline"
   ]
  },
  {
   "cell_type": "markdown",
   "metadata": {},
   "source": [
    "#### Who's on offense and who's on defense?"
   ]
  },
  {
   "cell_type": "code",
   "execution_count": 6,
   "metadata": {},
   "outputs": [],
   "source": [
    "#Create temp df for only QBs. We know QBs are always attacking so we will knnow what game/play/team combination\n",
    "#corresponds to players that are attacking\n",
    "qbs = week1[(week1['event'] == 'pass_forward')&(week1['position'] == 'QB')]"
   ]
  },
  {
   "cell_type": "code",
   "execution_count": 7,
   "metadata": {},
   "outputs": [],
   "source": [
    "#We drop all columns except team, gp, our QB's x and y coordinates which are the ones were interested in\n",
    "qbs.drop(qbs.columns.difference(['team','gp', 'x', 'y']), 1, inplace=True)"
   ]
  },
  {
   "cell_type": "code",
   "execution_count": 8,
   "metadata": {},
   "outputs": [],
   "source": [
    "#We drop duplicates, as we don't really need the same information for each frame\n",
    "qbs.drop_duplicates(subset=['gp'], inplace = True)"
   ]
  },
  {
   "cell_type": "code",
   "execution_count": 9,
   "metadata": {},
   "outputs": [],
   "source": [
    "#We merge our qbs data frame with our week1 dataframe based on game/play id\n",
    "week1 = week1.merge(qbs, on =\"gp\", suffixes=('', '_qb_pass_forward'))"
   ]
  },
  {
   "cell_type": "markdown",
   "metadata": {},
   "source": [
    "#### Encode column \n",
    "- might be unneccesarry at this point. "
   ]
  },
  {
   "cell_type": "code",
   "execution_count": 10,
   "metadata": {},
   "outputs": [],
   "source": [
    "#We create a new column called \"offense\" if our row's 'team' agrees with that of the appended qbs\n",
    "#If it does, that means the player is on the same team as the QB and is attacking. In this case, we set our \n",
    "#value to True. If it does not, it means the player is defending, and we set our value to False\n",
    "week1['offense'] = np.where(week1['team'] == week1['team_qb_pass_forward'], 1, 0)"
   ]
  },
  {
   "cell_type": "code",
   "execution_count": 11,
   "metadata": {},
   "outputs": [],
   "source": [
    "#We drop our second teams column\n",
    "week1.drop('team_qb_pass_forward', axis = 1, inplace = True)"
   ]
  },
  {
   "cell_type": "markdown",
   "metadata": {},
   "source": [
    "#### Tie Play action and Man in Motion to 'gp'\n",
    "\n",
    "- Need to link gp to play action\n",
    "\n",
    "#### Something off about these results"
   ]
  },
  {
   "cell_type": "code",
   "execution_count": 12,
   "metadata": {},
   "outputs": [
    {
     "data": {
      "text/plain": [
       "170"
      ]
     },
     "execution_count": 12,
     "metadata": {},
     "output_type": "execute_result"
    }
   ],
   "source": [
    "week1_playaction = set(week1['gp'].loc[week1['event'] == 'play_action'])\n",
    "len(week1_playaction)"
   ]
  },
  {
   "cell_type": "code",
   "execution_count": 13,
   "metadata": {
    "scrolled": true
   },
   "outputs": [
    {
     "data": {
      "text/plain": [
       "35"
      ]
     },
     "execution_count": 13,
     "metadata": {},
     "output_type": "execute_result"
    }
   ],
   "source": [
    "week1_motion = set(week1['gp'].loc[week1['event'] == 'man_in_motion'])\n",
    "len(week1_motion)"
   ]
  },
  {
   "cell_type": "code",
   "execution_count": 14,
   "metadata": {},
   "outputs": [
    {
     "data": {
      "text/plain": [
       "0    2018090600_75\n",
       "0    2018090600_75\n",
       "0    2018090600_75\n",
       "0    2018090600_75\n",
       "0    2018090600_75\n",
       "         ...      \n",
       "0    2018090600_75\n",
       "0    2018090600_75\n",
       "0    2018090600_75\n",
       "0    2018090600_75\n",
       "0    2018090600_75\n",
       "Name: gp, Length: 918456, dtype: object"
      ]
     },
     "execution_count": 14,
     "metadata": {},
     "output_type": "execute_result"
    }
   ],
   "source": [
    "df = week1.loc[np.where(week1['event'] == 'play_action', 1, 0)]\n",
    "df['gp']"
   ]
  },
  {
   "cell_type": "code",
   "execution_count": 15,
   "metadata": {},
   "outputs": [],
   "source": [
    "#### np.where(week1['event'] == 'man_in_motion', 1, 0)"
   ]
  },
  {
   "cell_type": "markdown",
   "metadata": {},
   "source": [
    "## DF with only ball_snap and pass_outcome rows"
   ]
  },
  {
   "cell_type": "code",
   "execution_count": 16,
   "metadata": {},
   "outputs": [],
   "source": [
    "passing_df = week1[week1['event'].isin(['pass_outcome_touchdown', \n",
    "                                        'pass_outcome_caught',\n",
    "                                        'pass_outcome_incomplete',\n",
    "                                        'pass_outcome_interception'])]"
   ]
  },
  {
   "cell_type": "code",
   "execution_count": 17,
   "metadata": {},
   "outputs": [],
   "source": [
    "passing_df = week1[week1['event'].isin(['ball_snap','line_set','pass_forward',\n",
    "                                        'play_action','man_in_motion'])]"
   ]
  },
  {
   "cell_type": "code",
   "execution_count": 18,
   "metadata": {},
   "outputs": [
    {
     "data": {
      "text/plain": [
       "(32691, 23)"
      ]
     },
     "execution_count": 18,
     "metadata": {},
     "output_type": "execute_result"
    }
   ],
   "source": [
    "passing_df.shape"
   ]
  },
  {
   "cell_type": "markdown",
   "metadata": {},
   "source": [
    "### Not sure this is worth doing right here. Need to refine ETL process. "
   ]
  },
  {
   "cell_type": "code",
   "execution_count": 19,
   "metadata": {},
   "outputs": [
    {
     "data": {
      "text/plain": [
       "0    30223\n",
       "1     2468\n",
       "Name: play_action, dtype: int64"
      ]
     },
     "execution_count": 19,
     "metadata": {},
     "output_type": "execute_result"
    }
   ],
   "source": [
    "#### New Encoded Columns\n",
    "\n",
    "# Create encoded Play Action column\n",
    "passing_df['play_action'] = np.where(passing_df['event'] == 'play_action', 1, 0)\n",
    "# Create encoded Man in Motion column\n",
    "passing_df['motion'] = np.where(passing_df['event'] == 'man_in_motion', 1, 0)\n",
    "\n",
    "# Fill \n",
    "passing_df['route'] = passing_df['route'].fillna('NONE')\n",
    "\n",
    "passing_df.play_action.value_counts()\n",
    "\n",
    "# passing_df.loc[passing_df['nflId'].isna()]"
   ]
  },
  {
   "cell_type": "code",
   "execution_count": 20,
   "metadata": {},
   "outputs": [],
   "source": [
    "#Let's try just having the ball_snap positions AND appending the outcome to a new column"
   ]
  },
  {
   "cell_type": "code",
   "execution_count": 21,
   "metadata": {},
   "outputs": [
    {
     "data": {
      "text/html": [
       "<div>\n",
       "<style scoped>\n",
       "    .dataframe tbody tr th:only-of-type {\n",
       "        vertical-align: middle;\n",
       "    }\n",
       "\n",
       "    .dataframe tbody tr th {\n",
       "        vertical-align: top;\n",
       "    }\n",
       "\n",
       "    .dataframe thead th {\n",
       "        text-align: right;\n",
       "    }\n",
       "</style>\n",
       "<table border=\"1\" class=\"dataframe\">\n",
       "  <thead>\n",
       "    <tr style=\"text-align: right;\">\n",
       "      <th></th>\n",
       "      <th>time</th>\n",
       "      <th>x</th>\n",
       "      <th>y</th>\n",
       "      <th>s</th>\n",
       "      <th>a</th>\n",
       "      <th>dis</th>\n",
       "      <th>o</th>\n",
       "      <th>dir</th>\n",
       "      <th>event</th>\n",
       "      <th>nflId</th>\n",
       "      <th>...</th>\n",
       "      <th>gameId</th>\n",
       "      <th>playId</th>\n",
       "      <th>playDirection</th>\n",
       "      <th>route</th>\n",
       "      <th>gp</th>\n",
       "      <th>x_qb_pass_forward</th>\n",
       "      <th>y_qb_pass_forward</th>\n",
       "      <th>offense</th>\n",
       "      <th>play_action</th>\n",
       "      <th>motion</th>\n",
       "    </tr>\n",
       "  </thead>\n",
       "  <tbody>\n",
       "    <tr>\n",
       "      <th>140</th>\n",
       "      <td>2018-09-07T01:07:15.599Z</td>\n",
       "      <td>91.74</td>\n",
       "      <td>26.67</td>\n",
       "      <td>0.00</td>\n",
       "      <td>0.00</td>\n",
       "      <td>0.01</td>\n",
       "      <td>277.41</td>\n",
       "      <td>235.01</td>\n",
       "      <td>ball_snap</td>\n",
       "      <td>310.0</td>\n",
       "      <td>...</td>\n",
       "      <td>2018090600</td>\n",
       "      <td>75</td>\n",
       "      <td>left</td>\n",
       "      <td>NONE</td>\n",
       "      <td>2018090600_75</td>\n",
       "      <td>96.43</td>\n",
       "      <td>26.78</td>\n",
       "      <td>1</td>\n",
       "      <td>0</td>\n",
       "      <td>0</td>\n",
       "    </tr>\n",
       "    <tr>\n",
       "      <th>141</th>\n",
       "      <td>2018-09-07T01:07:15.599Z</td>\n",
       "      <td>88.89</td>\n",
       "      <td>36.50</td>\n",
       "      <td>0.01</td>\n",
       "      <td>0.01</td>\n",
       "      <td>0.00</td>\n",
       "      <td>104.49</td>\n",
       "      <td>36.45</td>\n",
       "      <td>ball_snap</td>\n",
       "      <td>79848.0</td>\n",
       "      <td>...</td>\n",
       "      <td>2018090600</td>\n",
       "      <td>75</td>\n",
       "      <td>left</td>\n",
       "      <td>NONE</td>\n",
       "      <td>2018090600_75</td>\n",
       "      <td>96.43</td>\n",
       "      <td>26.78</td>\n",
       "      <td>0</td>\n",
       "      <td>0</td>\n",
       "      <td>0</td>\n",
       "    </tr>\n",
       "    <tr>\n",
       "      <th>142</th>\n",
       "      <td>2018-09-07T01:07:15.599Z</td>\n",
       "      <td>91.36</td>\n",
       "      <td>44.14</td>\n",
       "      <td>0.00</td>\n",
       "      <td>0.01</td>\n",
       "      <td>0.02</td>\n",
       "      <td>289.53</td>\n",
       "      <td>49.86</td>\n",
       "      <td>ball_snap</td>\n",
       "      <td>2495454.0</td>\n",
       "      <td>...</td>\n",
       "      <td>2018090600</td>\n",
       "      <td>75</td>\n",
       "      <td>left</td>\n",
       "      <td>HITCH</td>\n",
       "      <td>2018090600_75</td>\n",
       "      <td>96.43</td>\n",
       "      <td>26.78</td>\n",
       "      <td>1</td>\n",
       "      <td>0</td>\n",
       "      <td>0</td>\n",
       "    </tr>\n",
       "    <tr>\n",
       "      <th>143</th>\n",
       "      <td>2018-09-07T01:07:15.599Z</td>\n",
       "      <td>86.47</td>\n",
       "      <td>22.03</td>\n",
       "      <td>0.18</td>\n",
       "      <td>0.07</td>\n",
       "      <td>0.01</td>\n",
       "      <td>71.89</td>\n",
       "      <td>82.30</td>\n",
       "      <td>ball_snap</td>\n",
       "      <td>2495613.0</td>\n",
       "      <td>...</td>\n",
       "      <td>2018090600</td>\n",
       "      <td>75</td>\n",
       "      <td>left</td>\n",
       "      <td>NONE</td>\n",
       "      <td>2018090600_75</td>\n",
       "      <td>96.43</td>\n",
       "      <td>26.78</td>\n",
       "      <td>0</td>\n",
       "      <td>0</td>\n",
       "      <td>0</td>\n",
       "    </tr>\n",
       "    <tr>\n",
       "      <th>144</th>\n",
       "      <td>2018-09-07T01:07:15.599Z</td>\n",
       "      <td>90.78</td>\n",
       "      <td>36.16</td>\n",
       "      <td>0.00</td>\n",
       "      <td>0.00</td>\n",
       "      <td>0.00</td>\n",
       "      <td>259.19</td>\n",
       "      <td>294.93</td>\n",
       "      <td>ball_snap</td>\n",
       "      <td>2533040.0</td>\n",
       "      <td>...</td>\n",
       "      <td>2018090600</td>\n",
       "      <td>75</td>\n",
       "      <td>left</td>\n",
       "      <td>HITCH</td>\n",
       "      <td>2018090600_75</td>\n",
       "      <td>96.43</td>\n",
       "      <td>26.78</td>\n",
       "      <td>1</td>\n",
       "      <td>0</td>\n",
       "      <td>0</td>\n",
       "    </tr>\n",
       "  </tbody>\n",
       "</table>\n",
       "<p>5 rows × 25 columns</p>\n",
       "</div>"
      ],
      "text/plain": [
       "                         time      x      y     s     a   dis       o     dir  \\\n",
       "140  2018-09-07T01:07:15.599Z  91.74  26.67  0.00  0.00  0.01  277.41  235.01   \n",
       "141  2018-09-07T01:07:15.599Z  88.89  36.50  0.01  0.01  0.00  104.49   36.45   \n",
       "142  2018-09-07T01:07:15.599Z  91.36  44.14  0.00  0.01  0.02  289.53   49.86   \n",
       "143  2018-09-07T01:07:15.599Z  86.47  22.03  0.18  0.07  0.01   71.89   82.30   \n",
       "144  2018-09-07T01:07:15.599Z  90.78  36.16  0.00  0.00  0.00  259.19  294.93   \n",
       "\n",
       "         event      nflId  ...      gameId  playId playDirection  route  \\\n",
       "140  ball_snap      310.0  ...  2018090600      75          left   NONE   \n",
       "141  ball_snap    79848.0  ...  2018090600      75          left   NONE   \n",
       "142  ball_snap  2495454.0  ...  2018090600      75          left  HITCH   \n",
       "143  ball_snap  2495613.0  ...  2018090600      75          left   NONE   \n",
       "144  ball_snap  2533040.0  ...  2018090600      75          left  HITCH   \n",
       "\n",
       "                gp  x_qb_pass_forward  y_qb_pass_forward offense play_action  \\\n",
       "140  2018090600_75              96.43              26.78       1           0   \n",
       "141  2018090600_75              96.43              26.78       0           0   \n",
       "142  2018090600_75              96.43              26.78       1           0   \n",
       "143  2018090600_75              96.43              26.78       0           0   \n",
       "144  2018090600_75              96.43              26.78       1           0   \n",
       "\n",
       "    motion  \n",
       "140      0  \n",
       "141      0  \n",
       "142      0  \n",
       "143      0  \n",
       "144      0  \n",
       "\n",
       "[5 rows x 25 columns]"
      ]
     },
     "execution_count": 21,
     "metadata": {},
     "output_type": "execute_result"
    }
   ],
   "source": [
    "passing_df.head()"
   ]
  },
  {
   "cell_type": "markdown",
   "metadata": {},
   "source": [
    "### Outcomes, Target Variable"
   ]
  },
  {
   "cell_type": "code",
   "execution_count": 22,
   "metadata": {},
   "outputs": [],
   "source": [
    "outcomes = week1[['event','playId']][week1['event'].isin(['pass_outcome_touchdown',\n",
    "                                                          'pass_outcome_caught',\n",
    "                                                          'pass_outcome_incomplete',\n",
    "                                                          'pass_outcome_interception'])].drop_duplicates()"
   ]
  },
  {
   "cell_type": "code",
   "execution_count": 23,
   "metadata": {},
   "outputs": [],
   "source": [
    "outcomes.columns = ['outcome', 'playId']"
   ]
  },
  {
   "cell_type": "code",
   "execution_count": 24,
   "metadata": {},
   "outputs": [
    {
     "data": {
      "text/html": [
       "<div>\n",
       "<style scoped>\n",
       "    .dataframe tbody tr th:only-of-type {\n",
       "        vertical-align: middle;\n",
       "    }\n",
       "\n",
       "    .dataframe tbody tr th {\n",
       "        vertical-align: top;\n",
       "    }\n",
       "\n",
       "    .dataframe thead th {\n",
       "        text-align: right;\n",
       "    }\n",
       "</style>\n",
       "<table border=\"1\" class=\"dataframe\">\n",
       "  <thead>\n",
       "    <tr style=\"text-align: right;\">\n",
       "      <th></th>\n",
       "      <th>outcome</th>\n",
       "      <th>playId</th>\n",
       "    </tr>\n",
       "  </thead>\n",
       "  <tbody>\n",
       "    <tr>\n",
       "      <th>714</th>\n",
       "      <td>pass_outcome_caught</td>\n",
       "      <td>75</td>\n",
       "    </tr>\n",
       "    <tr>\n",
       "      <th>1484</th>\n",
       "      <td>pass_outcome_incomplete</td>\n",
       "      <td>146</td>\n",
       "    </tr>\n",
       "    <tr>\n",
       "      <th>2156</th>\n",
       "      <td>pass_outcome_incomplete</td>\n",
       "      <td>168</td>\n",
       "    </tr>\n",
       "    <tr>\n",
       "      <th>3038</th>\n",
       "      <td>pass_outcome_caught</td>\n",
       "      <td>190</td>\n",
       "    </tr>\n",
       "    <tr>\n",
       "      <th>3746</th>\n",
       "      <td>pass_outcome_incomplete</td>\n",
       "      <td>256</td>\n",
       "    </tr>\n",
       "  </tbody>\n",
       "</table>\n",
       "</div>"
      ],
      "text/plain": [
       "                      outcome  playId\n",
       "714       pass_outcome_caught      75\n",
       "1484  pass_outcome_incomplete     146\n",
       "2156  pass_outcome_incomplete     168\n",
       "3038      pass_outcome_caught     190\n",
       "3746  pass_outcome_incomplete     256"
      ]
     },
     "execution_count": 24,
     "metadata": {},
     "output_type": "execute_result"
    }
   ],
   "source": [
    "outcomes.head()"
   ]
  },
  {
   "cell_type": "code",
   "execution_count": 25,
   "metadata": {},
   "outputs": [
    {
     "data": {
      "text/plain": [
       "(35369, 26)"
      ]
     },
     "execution_count": 25,
     "metadata": {},
     "output_type": "execute_result"
    }
   ],
   "source": [
    "# merge in the outcomes\n",
    "passing_df = passing_df.merge(outcomes, on='playId')\n",
    "passing_df.shape"
   ]
  },
  {
   "cell_type": "code",
   "execution_count": 26,
   "metadata": {
    "scrolled": false
   },
   "outputs": [
    {
     "name": "stdout",
     "output_type": "stream",
     "text": [
      "<class 'pandas.core.frame.DataFrame'>\n",
      "Int64Index: 35369 entries, 0 to 35368\n",
      "Data columns (total 26 columns):\n",
      " #   Column             Non-Null Count  Dtype  \n",
      "---  ------             --------------  -----  \n",
      " 0   time               35369 non-null  object \n",
      " 1   x                  35369 non-null  float64\n",
      " 2   y                  35369 non-null  float64\n",
      " 3   s                  35369 non-null  float64\n",
      " 4   a                  35369 non-null  float64\n",
      " 5   dis                35369 non-null  float64\n",
      " 6   o                  32965 non-null  float64\n",
      " 7   dir                32965 non-null  float64\n",
      " 8   event              35369 non-null  object \n",
      " 9   nflId              32965 non-null  float64\n",
      " 10  displayName        35369 non-null  object \n",
      " 11  jerseyNumber       32965 non-null  float64\n",
      " 12  position           32965 non-null  object \n",
      " 13  frameId            35369 non-null  int64  \n",
      " 14  team               35369 non-null  object \n",
      " 15  gameId             35369 non-null  int64  \n",
      " 16  playId             35369 non-null  int64  \n",
      " 17  playDirection      35369 non-null  object \n",
      " 18  route              35369 non-null  object \n",
      " 19  gp                 35369 non-null  object \n",
      " 20  x_qb_pass_forward  35369 non-null  float64\n",
      " 21  y_qb_pass_forward  35369 non-null  float64\n",
      " 22  offense            35369 non-null  int64  \n",
      " 23  play_action        35369 non-null  int64  \n",
      " 24  motion             35369 non-null  int64  \n",
      " 25  outcome            35369 non-null  object \n",
      "dtypes: float64(11), int64(6), object(9)\n",
      "memory usage: 7.3+ MB\n"
     ]
    }
   ],
   "source": [
    "passing_df.info()"
   ]
  },
  {
   "cell_type": "markdown",
   "metadata": {},
   "source": [
    "## Plays Data\n",
    "- Plays data has some interesting categorical features that will help us categorize different types of plays and should serve as good predictors for our classifier\n",
    "\n",
    "- More work needed on bringing this in\n",
    "    - Game clock quantifier - Do we toss?|\n",
    "    - Absoluate yard line number = distance to goal"
   ]
  },
  {
   "cell_type": "code",
   "execution_count": 27,
   "metadata": {},
   "outputs": [],
   "source": [
    "# plays = plays[['playDescription', 'quarter', 'down', 'yardsToGo',\n",
    "#                'possessionTeam', 'playType', 'yardlineSide', 'yardlineNumber',\n",
    "#                 'offenseFormation', 'personnelO', 'defendersInTheBox',\n",
    "#                 'numberOfPassRushers', 'personnelD', 'typeDropback',\n",
    "#                 'preSnapVisitorScore', 'preSnapHomeScore', 'gameClock',\n",
    "#                 'absoluteYardlineNumber','gp']]\n",
    "plays = plays[['playDescription', 'quarter', 'down', 'yardsToGo',\n",
    "               'possessionTeam', 'playType','offenseFormation', 'personnelO', \n",
    "               'defendersInTheBox','numberOfPassRushers', 'personnelD', \n",
    "               'typeDropback','preSnapVisitorScore', 'preSnapHomeScore',\n",
    "                'absoluteYardlineNumber','gp']]\n"
   ]
  },
  {
   "cell_type": "markdown",
   "metadata": {},
   "source": [
    "#### Absolute yardline number into distance to TD"
   ]
  },
  {
   "cell_type": "code",
   "execution_count": 70,
   "metadata": {},
   "outputs": [],
   "source": [
    "#################\n",
    "\n",
    "# YOUR CODE HERE #\n",
    "\n",
    "#################"
   ]
  },
  {
   "cell_type": "markdown",
   "metadata": {},
   "source": [
    "#### Game Clock - What to do with?\n",
    "    - Is 2 minute drill encoding? 1 for yes, 0 for other"
   ]
  },
  {
   "cell_type": "code",
   "execution_count": 28,
   "metadata": {
    "scrolled": false
   },
   "outputs": [
    {
     "name": "stdout",
     "output_type": "stream",
     "text": [
      "<class 'pandas.core.frame.DataFrame'>\n",
      "RangeIndex: 19239 entries, 0 to 19238\n",
      "Data columns (total 16 columns):\n",
      " #   Column                  Non-Null Count  Dtype  \n",
      "---  ------                  --------------  -----  \n",
      " 0   playDescription         19239 non-null  object \n",
      " 1   quarter                 19239 non-null  int64  \n",
      " 2   down                    19239 non-null  int64  \n",
      " 3   yardsToGo               19239 non-null  int64  \n",
      " 4   possessionTeam          19239 non-null  object \n",
      " 5   playType                19239 non-null  object \n",
      " 6   offenseFormation        19098 non-null  object \n",
      " 7   personnelO              19210 non-null  object \n",
      " 8   defendersInTheBox       19177 non-null  float64\n",
      " 9   numberOfPassRushers     18606 non-null  float64\n",
      " 10  personnelD              19210 non-null  object \n",
      " 11  typeDropback            18600 non-null  object \n",
      " 12  preSnapVisitorScore     18600 non-null  float64\n",
      " 13  preSnapHomeScore        18600 non-null  float64\n",
      " 14  absoluteYardlineNumber  18600 non-null  float64\n",
      " 15  gp                      19239 non-null  object \n",
      "dtypes: float64(5), int64(3), object(8)\n",
      "memory usage: 2.3+ MB\n"
     ]
    }
   ],
   "source": [
    "plays.info()"
   ]
  },
  {
   "cell_type": "markdown",
   "metadata": {},
   "source": [
    "## Join passing_df and plays"
   ]
  },
  {
   "cell_type": "code",
   "execution_count": 29,
   "metadata": {},
   "outputs": [],
   "source": [
    "week1_plays = passing_df.set_index('gp').join(plays.set_index('gp'))"
   ]
  },
  {
   "cell_type": "code",
   "execution_count": 30,
   "metadata": {},
   "outputs": [
    {
     "data": {
      "text/html": [
       "<div>\n",
       "<style scoped>\n",
       "    .dataframe tbody tr th:only-of-type {\n",
       "        vertical-align: middle;\n",
       "    }\n",
       "\n",
       "    .dataframe tbody tr th {\n",
       "        vertical-align: top;\n",
       "    }\n",
       "\n",
       "    .dataframe thead th {\n",
       "        text-align: right;\n",
       "    }\n",
       "</style>\n",
       "<table border=\"1\" class=\"dataframe\">\n",
       "  <thead>\n",
       "    <tr style=\"text-align: right;\">\n",
       "      <th></th>\n",
       "      <th>time</th>\n",
       "      <th>x</th>\n",
       "      <th>y</th>\n",
       "      <th>s</th>\n",
       "      <th>a</th>\n",
       "      <th>dis</th>\n",
       "      <th>o</th>\n",
       "      <th>dir</th>\n",
       "      <th>event</th>\n",
       "      <th>nflId</th>\n",
       "      <th>...</th>\n",
       "      <th>playType</th>\n",
       "      <th>offenseFormation</th>\n",
       "      <th>personnelO</th>\n",
       "      <th>defendersInTheBox</th>\n",
       "      <th>numberOfPassRushers</th>\n",
       "      <th>personnelD</th>\n",
       "      <th>typeDropback</th>\n",
       "      <th>preSnapVisitorScore</th>\n",
       "      <th>preSnapHomeScore</th>\n",
       "      <th>absoluteYardlineNumber</th>\n",
       "    </tr>\n",
       "    <tr>\n",
       "      <th>gp</th>\n",
       "      <th></th>\n",
       "      <th></th>\n",
       "      <th></th>\n",
       "      <th></th>\n",
       "      <th></th>\n",
       "      <th></th>\n",
       "      <th></th>\n",
       "      <th></th>\n",
       "      <th></th>\n",
       "      <th></th>\n",
       "      <th></th>\n",
       "      <th></th>\n",
       "      <th></th>\n",
       "      <th></th>\n",
       "      <th></th>\n",
       "      <th></th>\n",
       "      <th></th>\n",
       "      <th></th>\n",
       "      <th></th>\n",
       "      <th></th>\n",
       "      <th></th>\n",
       "    </tr>\n",
       "  </thead>\n",
       "  <tbody>\n",
       "    <tr>\n",
       "      <th>2018090600_1037</th>\n",
       "      <td>2018-09-07T01:48:46.400Z</td>\n",
       "      <td>68.36</td>\n",
       "      <td>35.20</td>\n",
       "      <td>0.00</td>\n",
       "      <td>0.00</td>\n",
       "      <td>0.00</td>\n",
       "      <td>257.83</td>\n",
       "      <td>265.68</td>\n",
       "      <td>ball_snap</td>\n",
       "      <td>2507763.0</td>\n",
       "      <td>...</td>\n",
       "      <td>play_type_pass</td>\n",
       "      <td>SHOTGUN</td>\n",
       "      <td>1 RB, 1 TE, 3 WR</td>\n",
       "      <td>6.0</td>\n",
       "      <td>5.0</td>\n",
       "      <td>4 DL, 2 LB, 5 DB</td>\n",
       "      <td>TRADITIONAL</td>\n",
       "      <td>3.0</td>\n",
       "      <td>0.0</td>\n",
       "      <td>67.0</td>\n",
       "    </tr>\n",
       "    <tr>\n",
       "      <th>2018090600_1037</th>\n",
       "      <td>2018-09-07T01:48:46.400Z</td>\n",
       "      <td>72.08</td>\n",
       "      <td>23.78</td>\n",
       "      <td>0.00</td>\n",
       "      <td>0.00</td>\n",
       "      <td>0.00</td>\n",
       "      <td>265.74</td>\n",
       "      <td>275.50</td>\n",
       "      <td>ball_snap</td>\n",
       "      <td>2532842.0</td>\n",
       "      <td>...</td>\n",
       "      <td>play_type_pass</td>\n",
       "      <td>SHOTGUN</td>\n",
       "      <td>1 RB, 1 TE, 3 WR</td>\n",
       "      <td>6.0</td>\n",
       "      <td>5.0</td>\n",
       "      <td>4 DL, 2 LB, 5 DB</td>\n",
       "      <td>TRADITIONAL</td>\n",
       "      <td>3.0</td>\n",
       "      <td>0.0</td>\n",
       "      <td>67.0</td>\n",
       "    </tr>\n",
       "    <tr>\n",
       "      <th>2018090600_1037</th>\n",
       "      <td>2018-09-07T01:48:46.400Z</td>\n",
       "      <td>66.62</td>\n",
       "      <td>35.20</td>\n",
       "      <td>0.00</td>\n",
       "      <td>0.00</td>\n",
       "      <td>0.00</td>\n",
       "      <td>101.79</td>\n",
       "      <td>197.17</td>\n",
       "      <td>ball_snap</td>\n",
       "      <td>2539334.0</td>\n",
       "      <td>...</td>\n",
       "      <td>play_type_pass</td>\n",
       "      <td>SHOTGUN</td>\n",
       "      <td>1 RB, 1 TE, 3 WR</td>\n",
       "      <td>6.0</td>\n",
       "      <td>5.0</td>\n",
       "      <td>4 DL, 2 LB, 5 DB</td>\n",
       "      <td>TRADITIONAL</td>\n",
       "      <td>3.0</td>\n",
       "      <td>0.0</td>\n",
       "      <td>67.0</td>\n",
       "    </tr>\n",
       "    <tr>\n",
       "      <th>2018090600_1037</th>\n",
       "      <td>2018-09-07T01:48:46.400Z</td>\n",
       "      <td>65.59</td>\n",
       "      <td>15.30</td>\n",
       "      <td>0.00</td>\n",
       "      <td>0.00</td>\n",
       "      <td>0.01</td>\n",
       "      <td>73.64</td>\n",
       "      <td>308.71</td>\n",
       "      <td>ball_snap</td>\n",
       "      <td>2539653.0</td>\n",
       "      <td>...</td>\n",
       "      <td>play_type_pass</td>\n",
       "      <td>SHOTGUN</td>\n",
       "      <td>1 RB, 1 TE, 3 WR</td>\n",
       "      <td>6.0</td>\n",
       "      <td>5.0</td>\n",
       "      <td>4 DL, 2 LB, 5 DB</td>\n",
       "      <td>TRADITIONAL</td>\n",
       "      <td>3.0</td>\n",
       "      <td>0.0</td>\n",
       "      <td>67.0</td>\n",
       "    </tr>\n",
       "    <tr>\n",
       "      <th>2018090600_1037</th>\n",
       "      <td>2018-09-07T01:48:46.400Z</td>\n",
       "      <td>69.45</td>\n",
       "      <td>17.12</td>\n",
       "      <td>0.23</td>\n",
       "      <td>0.09</td>\n",
       "      <td>0.21</td>\n",
       "      <td>309.85</td>\n",
       "      <td>231.38</td>\n",
       "      <td>ball_snap</td>\n",
       "      <td>2540158.0</td>\n",
       "      <td>...</td>\n",
       "      <td>play_type_pass</td>\n",
       "      <td>SHOTGUN</td>\n",
       "      <td>1 RB, 1 TE, 3 WR</td>\n",
       "      <td>6.0</td>\n",
       "      <td>5.0</td>\n",
       "      <td>4 DL, 2 LB, 5 DB</td>\n",
       "      <td>TRADITIONAL</td>\n",
       "      <td>3.0</td>\n",
       "      <td>0.0</td>\n",
       "      <td>67.0</td>\n",
       "    </tr>\n",
       "    <tr>\n",
       "      <th>...</th>\n",
       "      <td>...</td>\n",
       "      <td>...</td>\n",
       "      <td>...</td>\n",
       "      <td>...</td>\n",
       "      <td>...</td>\n",
       "      <td>...</td>\n",
       "      <td>...</td>\n",
       "      <td>...</td>\n",
       "      <td>...</td>\n",
       "      <td>...</td>\n",
       "      <td>...</td>\n",
       "      <td>...</td>\n",
       "      <td>...</td>\n",
       "      <td>...</td>\n",
       "      <td>...</td>\n",
       "      <td>...</td>\n",
       "      <td>...</td>\n",
       "      <td>...</td>\n",
       "      <td>...</td>\n",
       "      <td>...</td>\n",
       "      <td>...</td>\n",
       "    </tr>\n",
       "    <tr>\n",
       "      <th>2018091001_980</th>\n",
       "      <td>2018-09-11T03:02:48.900Z</td>\n",
       "      <td>46.39</td>\n",
       "      <td>28.59</td>\n",
       "      <td>3.32</td>\n",
       "      <td>3.06</td>\n",
       "      <td>0.32</td>\n",
       "      <td>73.04</td>\n",
       "      <td>22.73</td>\n",
       "      <td>pass_forward</td>\n",
       "      <td>2556593.0</td>\n",
       "      <td>...</td>\n",
       "      <td>play_type_pass</td>\n",
       "      <td>I_FORM</td>\n",
       "      <td>2 RB, 1 TE, 2 WR</td>\n",
       "      <td>8.0</td>\n",
       "      <td>5.0</td>\n",
       "      <td>3 DL, 4 LB, 4 DB</td>\n",
       "      <td>TRADITIONAL</td>\n",
       "      <td>7.0</td>\n",
       "      <td>7.0</td>\n",
       "      <td>48.0</td>\n",
       "    </tr>\n",
       "    <tr>\n",
       "      <th>2018091001_980</th>\n",
       "      <td>2018-09-11T03:02:48.900Z</td>\n",
       "      <td>49.03</td>\n",
       "      <td>20.24</td>\n",
       "      <td>3.23</td>\n",
       "      <td>2.75</td>\n",
       "      <td>0.31</td>\n",
       "      <td>168.80</td>\n",
       "      <td>192.67</td>\n",
       "      <td>pass_forward</td>\n",
       "      <td>2556885.0</td>\n",
       "      <td>...</td>\n",
       "      <td>play_type_pass</td>\n",
       "      <td>I_FORM</td>\n",
       "      <td>2 RB, 1 TE, 2 WR</td>\n",
       "      <td>8.0</td>\n",
       "      <td>5.0</td>\n",
       "      <td>3 DL, 4 LB, 4 DB</td>\n",
       "      <td>TRADITIONAL</td>\n",
       "      <td>7.0</td>\n",
       "      <td>7.0</td>\n",
       "      <td>48.0</td>\n",
       "    </tr>\n",
       "    <tr>\n",
       "      <th>2018091001_980</th>\n",
       "      <td>2018-09-11T03:02:48.900Z</td>\n",
       "      <td>32.60</td>\n",
       "      <td>31.11</td>\n",
       "      <td>6.15</td>\n",
       "      <td>4.70</td>\n",
       "      <td>0.61</td>\n",
       "      <td>321.82</td>\n",
       "      <td>314.93</td>\n",
       "      <td>pass_forward</td>\n",
       "      <td>2558183.0</td>\n",
       "      <td>...</td>\n",
       "      <td>play_type_pass</td>\n",
       "      <td>I_FORM</td>\n",
       "      <td>2 RB, 1 TE, 2 WR</td>\n",
       "      <td>8.0</td>\n",
       "      <td>5.0</td>\n",
       "      <td>3 DL, 4 LB, 4 DB</td>\n",
       "      <td>TRADITIONAL</td>\n",
       "      <td>7.0</td>\n",
       "      <td>7.0</td>\n",
       "      <td>48.0</td>\n",
       "    </tr>\n",
       "    <tr>\n",
       "      <th>2018091001_980</th>\n",
       "      <td>2018-09-11T03:02:48.900Z</td>\n",
       "      <td>50.39</td>\n",
       "      <td>23.43</td>\n",
       "      <td>2.02</td>\n",
       "      <td>1.53</td>\n",
       "      <td>0.20</td>\n",
       "      <td>72.06</td>\n",
       "      <td>123.48</td>\n",
       "      <td>pass_forward</td>\n",
       "      <td>2558830.0</td>\n",
       "      <td>...</td>\n",
       "      <td>play_type_pass</td>\n",
       "      <td>I_FORM</td>\n",
       "      <td>2 RB, 1 TE, 2 WR</td>\n",
       "      <td>8.0</td>\n",
       "      <td>5.0</td>\n",
       "      <td>3 DL, 4 LB, 4 DB</td>\n",
       "      <td>TRADITIONAL</td>\n",
       "      <td>7.0</td>\n",
       "      <td>7.0</td>\n",
       "      <td>48.0</td>\n",
       "    </tr>\n",
       "    <tr>\n",
       "      <th>2018091001_980</th>\n",
       "      <td>2018-09-11T03:02:48.900Z</td>\n",
       "      <td>56.41</td>\n",
       "      <td>23.17</td>\n",
       "      <td>0.93</td>\n",
       "      <td>0.81</td>\n",
       "      <td>0.09</td>\n",
       "      <td>NaN</td>\n",
       "      <td>NaN</td>\n",
       "      <td>pass_forward</td>\n",
       "      <td>NaN</td>\n",
       "      <td>...</td>\n",
       "      <td>play_type_pass</td>\n",
       "      <td>I_FORM</td>\n",
       "      <td>2 RB, 1 TE, 2 WR</td>\n",
       "      <td>8.0</td>\n",
       "      <td>5.0</td>\n",
       "      <td>3 DL, 4 LB, 4 DB</td>\n",
       "      <td>TRADITIONAL</td>\n",
       "      <td>7.0</td>\n",
       "      <td>7.0</td>\n",
       "      <td>48.0</td>\n",
       "    </tr>\n",
       "  </tbody>\n",
       "</table>\n",
       "<p>35369 rows × 40 columns</p>\n",
       "</div>"
      ],
      "text/plain": [
       "                                     time      x      y     s     a   dis  \\\n",
       "gp                                                                          \n",
       "2018090600_1037  2018-09-07T01:48:46.400Z  68.36  35.20  0.00  0.00  0.00   \n",
       "2018090600_1037  2018-09-07T01:48:46.400Z  72.08  23.78  0.00  0.00  0.00   \n",
       "2018090600_1037  2018-09-07T01:48:46.400Z  66.62  35.20  0.00  0.00  0.00   \n",
       "2018090600_1037  2018-09-07T01:48:46.400Z  65.59  15.30  0.00  0.00  0.01   \n",
       "2018090600_1037  2018-09-07T01:48:46.400Z  69.45  17.12  0.23  0.09  0.21   \n",
       "...                                   ...    ...    ...   ...   ...   ...   \n",
       "2018091001_980   2018-09-11T03:02:48.900Z  46.39  28.59  3.32  3.06  0.32   \n",
       "2018091001_980   2018-09-11T03:02:48.900Z  49.03  20.24  3.23  2.75  0.31   \n",
       "2018091001_980   2018-09-11T03:02:48.900Z  32.60  31.11  6.15  4.70  0.61   \n",
       "2018091001_980   2018-09-11T03:02:48.900Z  50.39  23.43  2.02  1.53  0.20   \n",
       "2018091001_980   2018-09-11T03:02:48.900Z  56.41  23.17  0.93  0.81  0.09   \n",
       "\n",
       "                      o     dir         event      nflId  ...        playType  \\\n",
       "gp                                                        ...                   \n",
       "2018090600_1037  257.83  265.68     ball_snap  2507763.0  ...  play_type_pass   \n",
       "2018090600_1037  265.74  275.50     ball_snap  2532842.0  ...  play_type_pass   \n",
       "2018090600_1037  101.79  197.17     ball_snap  2539334.0  ...  play_type_pass   \n",
       "2018090600_1037   73.64  308.71     ball_snap  2539653.0  ...  play_type_pass   \n",
       "2018090600_1037  309.85  231.38     ball_snap  2540158.0  ...  play_type_pass   \n",
       "...                 ...     ...           ...        ...  ...             ...   \n",
       "2018091001_980    73.04   22.73  pass_forward  2556593.0  ...  play_type_pass   \n",
       "2018091001_980   168.80  192.67  pass_forward  2556885.0  ...  play_type_pass   \n",
       "2018091001_980   321.82  314.93  pass_forward  2558183.0  ...  play_type_pass   \n",
       "2018091001_980    72.06  123.48  pass_forward  2558830.0  ...  play_type_pass   \n",
       "2018091001_980      NaN     NaN  pass_forward        NaN  ...  play_type_pass   \n",
       "\n",
       "                 offenseFormation        personnelO  defendersInTheBox  \\\n",
       "gp                                                                       \n",
       "2018090600_1037           SHOTGUN  1 RB, 1 TE, 3 WR                6.0   \n",
       "2018090600_1037           SHOTGUN  1 RB, 1 TE, 3 WR                6.0   \n",
       "2018090600_1037           SHOTGUN  1 RB, 1 TE, 3 WR                6.0   \n",
       "2018090600_1037           SHOTGUN  1 RB, 1 TE, 3 WR                6.0   \n",
       "2018090600_1037           SHOTGUN  1 RB, 1 TE, 3 WR                6.0   \n",
       "...                           ...               ...                ...   \n",
       "2018091001_980             I_FORM  2 RB, 1 TE, 2 WR                8.0   \n",
       "2018091001_980             I_FORM  2 RB, 1 TE, 2 WR                8.0   \n",
       "2018091001_980             I_FORM  2 RB, 1 TE, 2 WR                8.0   \n",
       "2018091001_980             I_FORM  2 RB, 1 TE, 2 WR                8.0   \n",
       "2018091001_980             I_FORM  2 RB, 1 TE, 2 WR                8.0   \n",
       "\n",
       "                numberOfPassRushers        personnelD  typeDropback  \\\n",
       "gp                                                                    \n",
       "2018090600_1037                 5.0  4 DL, 2 LB, 5 DB   TRADITIONAL   \n",
       "2018090600_1037                 5.0  4 DL, 2 LB, 5 DB   TRADITIONAL   \n",
       "2018090600_1037                 5.0  4 DL, 2 LB, 5 DB   TRADITIONAL   \n",
       "2018090600_1037                 5.0  4 DL, 2 LB, 5 DB   TRADITIONAL   \n",
       "2018090600_1037                 5.0  4 DL, 2 LB, 5 DB   TRADITIONAL   \n",
       "...                             ...               ...           ...   \n",
       "2018091001_980                  5.0  3 DL, 4 LB, 4 DB   TRADITIONAL   \n",
       "2018091001_980                  5.0  3 DL, 4 LB, 4 DB   TRADITIONAL   \n",
       "2018091001_980                  5.0  3 DL, 4 LB, 4 DB   TRADITIONAL   \n",
       "2018091001_980                  5.0  3 DL, 4 LB, 4 DB   TRADITIONAL   \n",
       "2018091001_980                  5.0  3 DL, 4 LB, 4 DB   TRADITIONAL   \n",
       "\n",
       "                preSnapVisitorScore preSnapHomeScore  absoluteYardlineNumber  \n",
       "gp                                                                            \n",
       "2018090600_1037                 3.0              0.0                    67.0  \n",
       "2018090600_1037                 3.0              0.0                    67.0  \n",
       "2018090600_1037                 3.0              0.0                    67.0  \n",
       "2018090600_1037                 3.0              0.0                    67.0  \n",
       "2018090600_1037                 3.0              0.0                    67.0  \n",
       "...                             ...              ...                     ...  \n",
       "2018091001_980                  7.0              7.0                    48.0  \n",
       "2018091001_980                  7.0              7.0                    48.0  \n",
       "2018091001_980                  7.0              7.0                    48.0  \n",
       "2018091001_980                  7.0              7.0                    48.0  \n",
       "2018091001_980                  7.0              7.0                    48.0  \n",
       "\n",
       "[35369 rows x 40 columns]"
      ]
     },
     "execution_count": 30,
     "metadata": {},
     "output_type": "execute_result"
    }
   ],
   "source": [
    "# check work\n",
    "week1_plays"
   ]
  },
  {
   "cell_type": "markdown",
   "metadata": {},
   "source": [
    "## Final Model Prep\n",
    "- Columns to drop\n",
    "    - playDescription"
   ]
  },
  {
   "cell_type": "code",
   "execution_count": 31,
   "metadata": {},
   "outputs": [],
   "source": [
    "# list of columns to drop\n",
    "drop_list = ['time','nflId','displayName','jerseyNumber','position',\n",
    "             'frameId','team','gameId','playId','playDescription']"
   ]
  },
  {
   "cell_type": "code",
   "execution_count": 32,
   "metadata": {},
   "outputs": [],
   "source": [
    "# do the drops\n",
    "week1_plays = week1_plays.drop(drop_list, axis = 1)"
   ]
  },
  {
   "cell_type": "markdown",
   "metadata": {},
   "source": [
    "### Fill na's in the laziest way possible\n",
    "- might not want to stick with this"
   ]
  },
  {
   "cell_type": "code",
   "execution_count": 34,
   "metadata": {},
   "outputs": [],
   "source": [
    "week1_plays = week1_plays.interpolate()"
   ]
  },
  {
   "cell_type": "code",
   "execution_count": 35,
   "metadata": {},
   "outputs": [
    {
     "data": {
      "text/html": [
       "<div>\n",
       "<style scoped>\n",
       "    .dataframe tbody tr th:only-of-type {\n",
       "        vertical-align: middle;\n",
       "    }\n",
       "\n",
       "    .dataframe tbody tr th {\n",
       "        vertical-align: top;\n",
       "    }\n",
       "\n",
       "    .dataframe thead th {\n",
       "        text-align: right;\n",
       "    }\n",
       "</style>\n",
       "<table border=\"1\" class=\"dataframe\">\n",
       "  <thead>\n",
       "    <tr style=\"text-align: right;\">\n",
       "      <th></th>\n",
       "      <th>x</th>\n",
       "      <th>y</th>\n",
       "      <th>s</th>\n",
       "      <th>a</th>\n",
       "      <th>dis</th>\n",
       "      <th>o</th>\n",
       "      <th>dir</th>\n",
       "      <th>event</th>\n",
       "      <th>playDirection</th>\n",
       "      <th>route</th>\n",
       "      <th>...</th>\n",
       "      <th>playType</th>\n",
       "      <th>offenseFormation</th>\n",
       "      <th>personnelO</th>\n",
       "      <th>defendersInTheBox</th>\n",
       "      <th>numberOfPassRushers</th>\n",
       "      <th>personnelD</th>\n",
       "      <th>typeDropback</th>\n",
       "      <th>preSnapVisitorScore</th>\n",
       "      <th>preSnapHomeScore</th>\n",
       "      <th>absoluteYardlineNumber</th>\n",
       "    </tr>\n",
       "    <tr>\n",
       "      <th>gp</th>\n",
       "      <th></th>\n",
       "      <th></th>\n",
       "      <th></th>\n",
       "      <th></th>\n",
       "      <th></th>\n",
       "      <th></th>\n",
       "      <th></th>\n",
       "      <th></th>\n",
       "      <th></th>\n",
       "      <th></th>\n",
       "      <th></th>\n",
       "      <th></th>\n",
       "      <th></th>\n",
       "      <th></th>\n",
       "      <th></th>\n",
       "      <th></th>\n",
       "      <th></th>\n",
       "      <th></th>\n",
       "      <th></th>\n",
       "      <th></th>\n",
       "      <th></th>\n",
       "    </tr>\n",
       "  </thead>\n",
       "  <tbody>\n",
       "    <tr>\n",
       "      <th>2018090600_1037</th>\n",
       "      <td>68.36</td>\n",
       "      <td>35.20</td>\n",
       "      <td>0.00</td>\n",
       "      <td>0.00</td>\n",
       "      <td>0.00</td>\n",
       "      <td>257.83</td>\n",
       "      <td>265.68</td>\n",
       "      <td>ball_snap</td>\n",
       "      <td>left</td>\n",
       "      <td>HITCH</td>\n",
       "      <td>...</td>\n",
       "      <td>play_type_pass</td>\n",
       "      <td>SHOTGUN</td>\n",
       "      <td>1 RB, 1 TE, 3 WR</td>\n",
       "      <td>6.0</td>\n",
       "      <td>5.0</td>\n",
       "      <td>4 DL, 2 LB, 5 DB</td>\n",
       "      <td>TRADITIONAL</td>\n",
       "      <td>3.0</td>\n",
       "      <td>0.0</td>\n",
       "      <td>67.0</td>\n",
       "    </tr>\n",
       "    <tr>\n",
       "      <th>2018090600_1037</th>\n",
       "      <td>72.08</td>\n",
       "      <td>23.78</td>\n",
       "      <td>0.00</td>\n",
       "      <td>0.00</td>\n",
       "      <td>0.00</td>\n",
       "      <td>265.74</td>\n",
       "      <td>275.50</td>\n",
       "      <td>ball_snap</td>\n",
       "      <td>left</td>\n",
       "      <td>NONE</td>\n",
       "      <td>...</td>\n",
       "      <td>play_type_pass</td>\n",
       "      <td>SHOTGUN</td>\n",
       "      <td>1 RB, 1 TE, 3 WR</td>\n",
       "      <td>6.0</td>\n",
       "      <td>5.0</td>\n",
       "      <td>4 DL, 2 LB, 5 DB</td>\n",
       "      <td>TRADITIONAL</td>\n",
       "      <td>3.0</td>\n",
       "      <td>0.0</td>\n",
       "      <td>67.0</td>\n",
       "    </tr>\n",
       "    <tr>\n",
       "      <th>2018090600_1037</th>\n",
       "      <td>66.62</td>\n",
       "      <td>35.20</td>\n",
       "      <td>0.00</td>\n",
       "      <td>0.00</td>\n",
       "      <td>0.00</td>\n",
       "      <td>101.79</td>\n",
       "      <td>197.17</td>\n",
       "      <td>ball_snap</td>\n",
       "      <td>left</td>\n",
       "      <td>NONE</td>\n",
       "      <td>...</td>\n",
       "      <td>play_type_pass</td>\n",
       "      <td>SHOTGUN</td>\n",
       "      <td>1 RB, 1 TE, 3 WR</td>\n",
       "      <td>6.0</td>\n",
       "      <td>5.0</td>\n",
       "      <td>4 DL, 2 LB, 5 DB</td>\n",
       "      <td>TRADITIONAL</td>\n",
       "      <td>3.0</td>\n",
       "      <td>0.0</td>\n",
       "      <td>67.0</td>\n",
       "    </tr>\n",
       "    <tr>\n",
       "      <th>2018090600_1037</th>\n",
       "      <td>65.59</td>\n",
       "      <td>15.30</td>\n",
       "      <td>0.00</td>\n",
       "      <td>0.00</td>\n",
       "      <td>0.01</td>\n",
       "      <td>73.64</td>\n",
       "      <td>308.71</td>\n",
       "      <td>ball_snap</td>\n",
       "      <td>left</td>\n",
       "      <td>NONE</td>\n",
       "      <td>...</td>\n",
       "      <td>play_type_pass</td>\n",
       "      <td>SHOTGUN</td>\n",
       "      <td>1 RB, 1 TE, 3 WR</td>\n",
       "      <td>6.0</td>\n",
       "      <td>5.0</td>\n",
       "      <td>4 DL, 2 LB, 5 DB</td>\n",
       "      <td>TRADITIONAL</td>\n",
       "      <td>3.0</td>\n",
       "      <td>0.0</td>\n",
       "      <td>67.0</td>\n",
       "    </tr>\n",
       "    <tr>\n",
       "      <th>2018090600_1037</th>\n",
       "      <td>69.45</td>\n",
       "      <td>17.12</td>\n",
       "      <td>0.23</td>\n",
       "      <td>0.09</td>\n",
       "      <td>0.21</td>\n",
       "      <td>309.85</td>\n",
       "      <td>231.38</td>\n",
       "      <td>ball_snap</td>\n",
       "      <td>left</td>\n",
       "      <td>OUT</td>\n",
       "      <td>...</td>\n",
       "      <td>play_type_pass</td>\n",
       "      <td>SHOTGUN</td>\n",
       "      <td>1 RB, 1 TE, 3 WR</td>\n",
       "      <td>6.0</td>\n",
       "      <td>5.0</td>\n",
       "      <td>4 DL, 2 LB, 5 DB</td>\n",
       "      <td>TRADITIONAL</td>\n",
       "      <td>3.0</td>\n",
       "      <td>0.0</td>\n",
       "      <td>67.0</td>\n",
       "    </tr>\n",
       "    <tr>\n",
       "      <th>...</th>\n",
       "      <td>...</td>\n",
       "      <td>...</td>\n",
       "      <td>...</td>\n",
       "      <td>...</td>\n",
       "      <td>...</td>\n",
       "      <td>...</td>\n",
       "      <td>...</td>\n",
       "      <td>...</td>\n",
       "      <td>...</td>\n",
       "      <td>...</td>\n",
       "      <td>...</td>\n",
       "      <td>...</td>\n",
       "      <td>...</td>\n",
       "      <td>...</td>\n",
       "      <td>...</td>\n",
       "      <td>...</td>\n",
       "      <td>...</td>\n",
       "      <td>...</td>\n",
       "      <td>...</td>\n",
       "      <td>...</td>\n",
       "      <td>...</td>\n",
       "    </tr>\n",
       "    <tr>\n",
       "      <th>2018091001_980</th>\n",
       "      <td>46.39</td>\n",
       "      <td>28.59</td>\n",
       "      <td>3.32</td>\n",
       "      <td>3.06</td>\n",
       "      <td>0.32</td>\n",
       "      <td>73.04</td>\n",
       "      <td>22.73</td>\n",
       "      <td>pass_forward</td>\n",
       "      <td>left</td>\n",
       "      <td>NONE</td>\n",
       "      <td>...</td>\n",
       "      <td>play_type_pass</td>\n",
       "      <td>I_FORM</td>\n",
       "      <td>2 RB, 1 TE, 2 WR</td>\n",
       "      <td>8.0</td>\n",
       "      <td>5.0</td>\n",
       "      <td>3 DL, 4 LB, 4 DB</td>\n",
       "      <td>TRADITIONAL</td>\n",
       "      <td>7.0</td>\n",
       "      <td>7.0</td>\n",
       "      <td>48.0</td>\n",
       "    </tr>\n",
       "    <tr>\n",
       "      <th>2018091001_980</th>\n",
       "      <td>49.03</td>\n",
       "      <td>20.24</td>\n",
       "      <td>3.23</td>\n",
       "      <td>2.75</td>\n",
       "      <td>0.31</td>\n",
       "      <td>168.80</td>\n",
       "      <td>192.67</td>\n",
       "      <td>pass_forward</td>\n",
       "      <td>left</td>\n",
       "      <td>NONE</td>\n",
       "      <td>...</td>\n",
       "      <td>play_type_pass</td>\n",
       "      <td>I_FORM</td>\n",
       "      <td>2 RB, 1 TE, 2 WR</td>\n",
       "      <td>8.0</td>\n",
       "      <td>5.0</td>\n",
       "      <td>3 DL, 4 LB, 4 DB</td>\n",
       "      <td>TRADITIONAL</td>\n",
       "      <td>7.0</td>\n",
       "      <td>7.0</td>\n",
       "      <td>48.0</td>\n",
       "    </tr>\n",
       "    <tr>\n",
       "      <th>2018091001_980</th>\n",
       "      <td>32.60</td>\n",
       "      <td>31.11</td>\n",
       "      <td>6.15</td>\n",
       "      <td>4.70</td>\n",
       "      <td>0.61</td>\n",
       "      <td>321.82</td>\n",
       "      <td>314.93</td>\n",
       "      <td>pass_forward</td>\n",
       "      <td>left</td>\n",
       "      <td>NONE</td>\n",
       "      <td>...</td>\n",
       "      <td>play_type_pass</td>\n",
       "      <td>I_FORM</td>\n",
       "      <td>2 RB, 1 TE, 2 WR</td>\n",
       "      <td>8.0</td>\n",
       "      <td>5.0</td>\n",
       "      <td>3 DL, 4 LB, 4 DB</td>\n",
       "      <td>TRADITIONAL</td>\n",
       "      <td>7.0</td>\n",
       "      <td>7.0</td>\n",
       "      <td>48.0</td>\n",
       "    </tr>\n",
       "    <tr>\n",
       "      <th>2018091001_980</th>\n",
       "      <td>50.39</td>\n",
       "      <td>23.43</td>\n",
       "      <td>2.02</td>\n",
       "      <td>1.53</td>\n",
       "      <td>0.20</td>\n",
       "      <td>72.06</td>\n",
       "      <td>123.48</td>\n",
       "      <td>pass_forward</td>\n",
       "      <td>left</td>\n",
       "      <td>NONE</td>\n",
       "      <td>...</td>\n",
       "      <td>play_type_pass</td>\n",
       "      <td>I_FORM</td>\n",
       "      <td>2 RB, 1 TE, 2 WR</td>\n",
       "      <td>8.0</td>\n",
       "      <td>5.0</td>\n",
       "      <td>3 DL, 4 LB, 4 DB</td>\n",
       "      <td>TRADITIONAL</td>\n",
       "      <td>7.0</td>\n",
       "      <td>7.0</td>\n",
       "      <td>48.0</td>\n",
       "    </tr>\n",
       "    <tr>\n",
       "      <th>2018091001_980</th>\n",
       "      <td>56.41</td>\n",
       "      <td>23.17</td>\n",
       "      <td>0.93</td>\n",
       "      <td>0.81</td>\n",
       "      <td>0.09</td>\n",
       "      <td>72.06</td>\n",
       "      <td>123.48</td>\n",
       "      <td>pass_forward</td>\n",
       "      <td>left</td>\n",
       "      <td>NONE</td>\n",
       "      <td>...</td>\n",
       "      <td>play_type_pass</td>\n",
       "      <td>I_FORM</td>\n",
       "      <td>2 RB, 1 TE, 2 WR</td>\n",
       "      <td>8.0</td>\n",
       "      <td>5.0</td>\n",
       "      <td>3 DL, 4 LB, 4 DB</td>\n",
       "      <td>TRADITIONAL</td>\n",
       "      <td>7.0</td>\n",
       "      <td>7.0</td>\n",
       "      <td>48.0</td>\n",
       "    </tr>\n",
       "  </tbody>\n",
       "</table>\n",
       "<p>35369 rows × 30 columns</p>\n",
       "</div>"
      ],
      "text/plain": [
       "                     x      y     s     a   dis       o     dir         event  \\\n",
       "gp                                                                              \n",
       "2018090600_1037  68.36  35.20  0.00  0.00  0.00  257.83  265.68     ball_snap   \n",
       "2018090600_1037  72.08  23.78  0.00  0.00  0.00  265.74  275.50     ball_snap   \n",
       "2018090600_1037  66.62  35.20  0.00  0.00  0.00  101.79  197.17     ball_snap   \n",
       "2018090600_1037  65.59  15.30  0.00  0.00  0.01   73.64  308.71     ball_snap   \n",
       "2018090600_1037  69.45  17.12  0.23  0.09  0.21  309.85  231.38     ball_snap   \n",
       "...                ...    ...   ...   ...   ...     ...     ...           ...   \n",
       "2018091001_980   46.39  28.59  3.32  3.06  0.32   73.04   22.73  pass_forward   \n",
       "2018091001_980   49.03  20.24  3.23  2.75  0.31  168.80  192.67  pass_forward   \n",
       "2018091001_980   32.60  31.11  6.15  4.70  0.61  321.82  314.93  pass_forward   \n",
       "2018091001_980   50.39  23.43  2.02  1.53  0.20   72.06  123.48  pass_forward   \n",
       "2018091001_980   56.41  23.17  0.93  0.81  0.09   72.06  123.48  pass_forward   \n",
       "\n",
       "                playDirection  route  ...        playType  offenseFormation  \\\n",
       "gp                                    ...                                     \n",
       "2018090600_1037          left  HITCH  ...  play_type_pass           SHOTGUN   \n",
       "2018090600_1037          left   NONE  ...  play_type_pass           SHOTGUN   \n",
       "2018090600_1037          left   NONE  ...  play_type_pass           SHOTGUN   \n",
       "2018090600_1037          left   NONE  ...  play_type_pass           SHOTGUN   \n",
       "2018090600_1037          left    OUT  ...  play_type_pass           SHOTGUN   \n",
       "...                       ...    ...  ...             ...               ...   \n",
       "2018091001_980           left   NONE  ...  play_type_pass            I_FORM   \n",
       "2018091001_980           left   NONE  ...  play_type_pass            I_FORM   \n",
       "2018091001_980           left   NONE  ...  play_type_pass            I_FORM   \n",
       "2018091001_980           left   NONE  ...  play_type_pass            I_FORM   \n",
       "2018091001_980           left   NONE  ...  play_type_pass            I_FORM   \n",
       "\n",
       "                       personnelO  defendersInTheBox  numberOfPassRushers  \\\n",
       "gp                                                                          \n",
       "2018090600_1037  1 RB, 1 TE, 3 WR                6.0                  5.0   \n",
       "2018090600_1037  1 RB, 1 TE, 3 WR                6.0                  5.0   \n",
       "2018090600_1037  1 RB, 1 TE, 3 WR                6.0                  5.0   \n",
       "2018090600_1037  1 RB, 1 TE, 3 WR                6.0                  5.0   \n",
       "2018090600_1037  1 RB, 1 TE, 3 WR                6.0                  5.0   \n",
       "...                           ...                ...                  ...   \n",
       "2018091001_980   2 RB, 1 TE, 2 WR                8.0                  5.0   \n",
       "2018091001_980   2 RB, 1 TE, 2 WR                8.0                  5.0   \n",
       "2018091001_980   2 RB, 1 TE, 2 WR                8.0                  5.0   \n",
       "2018091001_980   2 RB, 1 TE, 2 WR                8.0                  5.0   \n",
       "2018091001_980   2 RB, 1 TE, 2 WR                8.0                  5.0   \n",
       "\n",
       "                       personnelD  typeDropback  preSnapVisitorScore  \\\n",
       "gp                                                                     \n",
       "2018090600_1037  4 DL, 2 LB, 5 DB   TRADITIONAL                  3.0   \n",
       "2018090600_1037  4 DL, 2 LB, 5 DB   TRADITIONAL                  3.0   \n",
       "2018090600_1037  4 DL, 2 LB, 5 DB   TRADITIONAL                  3.0   \n",
       "2018090600_1037  4 DL, 2 LB, 5 DB   TRADITIONAL                  3.0   \n",
       "2018090600_1037  4 DL, 2 LB, 5 DB   TRADITIONAL                  3.0   \n",
       "...                           ...           ...                  ...   \n",
       "2018091001_980   3 DL, 4 LB, 4 DB   TRADITIONAL                  7.0   \n",
       "2018091001_980   3 DL, 4 LB, 4 DB   TRADITIONAL                  7.0   \n",
       "2018091001_980   3 DL, 4 LB, 4 DB   TRADITIONAL                  7.0   \n",
       "2018091001_980   3 DL, 4 LB, 4 DB   TRADITIONAL                  7.0   \n",
       "2018091001_980   3 DL, 4 LB, 4 DB   TRADITIONAL                  7.0   \n",
       "\n",
       "                 preSnapHomeScore absoluteYardlineNumber  \n",
       "gp                                                        \n",
       "2018090600_1037               0.0                   67.0  \n",
       "2018090600_1037               0.0                   67.0  \n",
       "2018090600_1037               0.0                   67.0  \n",
       "2018090600_1037               0.0                   67.0  \n",
       "2018090600_1037               0.0                   67.0  \n",
       "...                           ...                    ...  \n",
       "2018091001_980                7.0                   48.0  \n",
       "2018091001_980                7.0                   48.0  \n",
       "2018091001_980                7.0                   48.0  \n",
       "2018091001_980                7.0                   48.0  \n",
       "2018091001_980                7.0                   48.0  \n",
       "\n",
       "[35369 rows x 30 columns]"
      ]
     },
     "execution_count": 35,
     "metadata": {},
     "output_type": "execute_result"
    }
   ],
   "source": [
    "week1_plays = week1_plays.fillna(method='ffill')"
   ]
  },
  {
   "cell_type": "markdown",
   "metadata": {},
   "source": [
    "# Define X and y"
   ]
  },
  {
   "cell_type": "markdown",
   "metadata": {},
   "source": [
    "### X_prep\n",
    "- create X, check shape\n",
    "- Get dummies on X (29 to 119 features)"
   ]
  },
  {
   "cell_type": "code",
   "execution_count": 36,
   "metadata": {},
   "outputs": [
    {
     "data": {
      "text/plain": [
       "(35369, 29)"
      ]
     },
     "execution_count": 36,
     "metadata": {},
     "output_type": "execute_result"
    }
   ],
   "source": [
    "# drop outcome to create X \n",
    "X = week1_plays.drop('outcome', axis = 1)\n",
    "X.shape"
   ]
  },
  {
   "cell_type": "code",
   "execution_count": 49,
   "metadata": {},
   "outputs": [],
   "source": [
    "# Create dummies for X \n",
    "X = pd.get_dummies(X)"
   ]
  },
  {
   "cell_type": "code",
   "execution_count": 68,
   "metadata": {},
   "outputs": [
    {
     "data": {
      "text/plain": [
       "(35369, 119)"
      ]
     },
     "execution_count": 68,
     "metadata": {},
     "output_type": "execute_result"
    }
   ],
   "source": [
    "# check shape\n",
    "X.shape"
   ]
  },
  {
   "cell_type": "markdown",
   "metadata": {},
   "source": [
    "### Y Prep"
   ]
  },
  {
   "cell_type": "code",
   "execution_count": 83,
   "metadata": {},
   "outputs": [
    {
     "data": {
      "text/plain": [
       "pass_outcome_caught          20203\n",
       "pass_outcome_incomplete      13339\n",
       "pass_outcome_interception     1195\n",
       "pass_outcome_touchdown         632\n",
       "Name: outcome, dtype: int64"
      ]
     },
     "execution_count": 83,
     "metadata": {},
     "output_type": "execute_result"
    }
   ],
   "source": [
    "# Define y\n",
    "y = week1_plays.outcome\n",
    "y.value_counts()"
   ]
  },
  {
   "cell_type": "code",
   "execution_count": 84,
   "metadata": {},
   "outputs": [],
   "source": [
    "# Encode our outcome column\n",
    "from sklearn.preprocessing import LabelEncoder\n",
    "\n",
    "le = LabelEncoder()\n",
    "y = le.fit_transform(y)"
   ]
  },
  {
   "cell_type": "markdown",
   "metadata": {},
   "source": [
    "### Train Test Split"
   ]
  },
  {
   "cell_type": "code",
   "execution_count": 79,
   "metadata": {},
   "outputs": [],
   "source": [
    "from sklearn.model_selection import train_test_split\n",
    "\n",
    "X_train, X_test, y_train, y_test = train_test_split(\n",
    "    X, y, test_size=0.3, random_state=42)"
   ]
  },
  {
   "cell_type": "markdown",
   "metadata": {},
   "source": [
    "# Model"
   ]
  },
  {
   "cell_type": "code",
   "execution_count": 80,
   "metadata": {},
   "outputs": [],
   "source": [
    "from sklearn.ensemble import RandomForestClassifier\n",
    "\n",
    "rf = RandomForestClassifier(random_state=42)"
   ]
  },
  {
   "cell_type": "code",
   "execution_count": 81,
   "metadata": {},
   "outputs": [
    {
     "data": {
      "text/plain": [
       "RandomForestClassifier(random_state=42)"
      ]
     },
     "execution_count": 81,
     "metadata": {},
     "output_type": "execute_result"
    }
   ],
   "source": [
    "rf.fit(X_train, y_train)"
   ]
  },
  {
   "cell_type": "code",
   "execution_count": 56,
   "metadata": {},
   "outputs": [],
   "source": [
    "y_preds = rf.predict(X_test)"
   ]
  },
  {
   "cell_type": "code",
   "execution_count": 59,
   "metadata": {},
   "outputs": [
    {
     "name": "stdout",
     "output_type": "stream",
     "text": [
      "              precision    recall  f1-score   support\n",
      "\n",
      "           0       0.88      0.89      0.89      5949\n",
      "           1       0.85      0.83      0.84      4106\n",
      "           2       0.88      0.85      0.86       383\n",
      "           3       0.67      0.71      0.69       173\n",
      "\n",
      "    accuracy                           0.87     10611\n",
      "   macro avg       0.82      0.82      0.82     10611\n",
      "weighted avg       0.87      0.87      0.86     10611\n",
      "\n"
     ]
    }
   ],
   "source": [
    "from sklearn.metrics import classification_report\n",
    "\n",
    "print(classification_report(y_test,y_preds))"
   ]
  },
  {
   "cell_type": "code",
   "execution_count": 64,
   "metadata": {
    "scrolled": true
   },
   "outputs": [],
   "source": [
    "rf_imp = pd.Series(rf.feature_importances_, index=X.columns)\n",
    "rf_sorted = rf_imp.sort_values(ascending=False)"
   ]
  },
  {
   "cell_type": "code",
   "execution_count": 67,
   "metadata": {},
   "outputs": [
    {
     "data": {
      "image/png": "[encoded data removed]",
      "text/plain": [
       "<Figure size 576x576 with 1 Axes>"
      ]
     },
     "metadata": {
      "needs_background": "light"
     },
     "output_type": "display_data"
    }
   ],
   "source": [
    "rf_sorted[:20].plot(kind='barh', color='blue',figsize=(8,8),title='Top 10 Features')\n",
    "plt.show()"
   ]
  },
  {
   "cell_type": "markdown",
   "metadata": {},
   "source": [
    "## Additional Questions/Items"
   ]
  },
  {
   "cell_type": "code",
   "execution_count": null,
   "metadata": {},
   "outputs": [],
   "source": [
    "#Does player performance decrease as the season goes on?\n",
    "#   How do you define defensive performance and its increase/decrease?\n",
    "\n",
    "#What are coverage schemes (man, zone, etc) that the defense employs? What coverage options tend to be better performing?\n",
    "#   Better performing = no completion, no gain. Fourth down incompletion. Interceptions.\n",
    "\n",
    "#Which players are the best at closely tracking receivers as they try to get open?\n",
    "#   Height, weight, age, schools, teams, proximity to offensive player. How do you define \"open\" in your program?\n",
    "\n",
    "#Which players are the best at closing on receivers when the ball is in the air?\n",
    "#   Height, weight, age, schools, teams, proximity to offensive player\n",
    "\n",
    "#Which players are the best at defending pass plays when the ball arrives?\n",
    "#   Height, weight, age, schools, teams\n",
    "\n",
    "#Is there any way to use player tracking data to predict whether or not certain penalties – for example, defensive pass interference – will be called?\n",
    "#   Movement, formation, adjustments, orientations, player IDs, home/away\n",
    "\n",
    "#Who are the NFL’s best players against the pass?\n",
    "#   Most interceptions, blocks?\n",
    "\n",
    "#How does a defense react to certain types of offensive plays?\n",
    "#   Movement, formation, adjustments\n",
    "\n",
    "#Is there anything about a player – for example, their height, weight, experience, speed, or position – that can be used to predict their performance on defense?\n",
    "#   How do you measure performance on defense?\n",
    "\n",
    "#Are there favorable matchups to specific QBs/profiles of QBs/offensive lineups?\n",
    "#   Physical features of all players in offensive lineup and defensive lineup, result of play"
   ]
  }
 ],
 "metadata": {
  "kernelspec": {
   "display_name": "Python 3",
   "language": "python",
   "name": "python3"
  },
  "language_info": {
   "codemirror_mode": {
    "name": "ipython",
    "version": 3
   },
   "file_extension": ".py",
   "mimetype": "text/x-python",
   "name": "python",
   "nbconvert_exporter": "python",
   "pygments_lexer": "ipython3",
   "version": "3.7.6"
  }
 },
 "nbformat": 4,
 "nbformat_minor": 4
}
