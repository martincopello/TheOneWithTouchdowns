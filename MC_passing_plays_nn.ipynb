{
 "cells": [
  {
   "cell_type": "code",
   "execution_count": 1,
   "metadata": {},
   "outputs": [],
   "source": [
    "import sys\n",
    "import pandas as pd\n",
    "import numpy as np\n",
    "import os\n",
    "import matplotlib.pyplot as plt\n",
    "from mpl_toolkits.mplot3d import Axes3D\n",
    "import matplotlib.patches as patches\n",
    "import seaborn as sns\n",
    "import re\n",
    "from datetime import date, datetime\n",
    "import glob\n",
    "import plotly.figure_factory as ff\n",
    "from scipy.spatial import distance\n",
    "from scipy.spatial import Voronoi, voronoi_plot_2d\n",
    "from matplotlib.animation import FuncAnimation\n",
    "from scipy.spatial import distance\n",
    "import tensorflow as tf\n",
    "from tensorflow import keras\n",
    "from tensorflow.keras.preprocessing import image \n",
    "from tensorflow.keras.models import load_model\n",
    "from tensorflow.keras import metrics\n",
    "from sklearn.model_selection import train_test_split\n",
    "from sklearn.preprocessing import LabelEncoder\n",
    "from sklearn.ensemble import RandomForestClassifier\n",
    "from sklearn.metrics import classification_report\n",
    "from sklearn.metrics import confusion_matrix\n",
    "from sklearn.preprocessing import OneHotEncoder\n",
    "from sklearn.metrics import accuracy_score\n",
    "from sklearn.metrics import roc_auc_score\n",
    "from sklearn.model_selection import RandomizedSearchCV\n",
    "from sklearn import preprocessing\n",
    "import kerastuner as kt\n",
    "import statistics as st\n",
    "\n",
    "path = \"data\""
   ]
  },
  {
   "cell_type": "code",
   "execution_count": 2,
   "metadata": {},
   "outputs": [],
   "source": [
    "#Let's just import week1 so that we can move quickly. Later on we can import all the data.s\n",
    "#all_files = glob.glob(path + \"/*.csv\")\n",
    "#li = []\n",
    "\n",
    "#for filename in all_files:\n",
    "#    df = pd.read_csv(filename, index_col=None, header=0)\n",
    "#    li.append(df)\n",
    "\n",
    "#week1 = pd.concat(li, axis=0, ignore_index=True)\n",
    "week1 = pd.read_csv(path + \"/week1.csv\")"
   ]
  },
  {
   "cell_type": "code",
   "execution_count": 3,
   "metadata": {},
   "outputs": [
    {
     "data": {
      "text/plain": [
       "(986022, 19)"
      ]
     },
     "execution_count": 3,
     "metadata": {},
     "output_type": "execute_result"
    }
   ],
   "source": [
    "week1.shape"
   ]
  },
  {
   "cell_type": "code",
   "execution_count": 4,
   "metadata": {},
   "outputs": [],
   "source": [
    "#li = []\n",
    "#df1 = pd.read_csv(path + \"/week1.csv\")\n",
    "#df2 = pd.read_csv(path + \"/week2.csv\")\n",
    "#df3 = pd.read_csv(path + \"/week3.csv\")\n",
    "#df4 = pd.read_csv(path + \"/week4.csv\")\n",
    "#df5 = pd.read_csv(path + \"/week5.csv\")\n",
    "#df6 = pd.read_csv(path + \"/week6.csv\")"
   ]
  },
  {
   "cell_type": "code",
   "execution_count": 5,
   "metadata": {},
   "outputs": [],
   "source": [
    "#li.append(df1)\n",
    "#li.append(df2)\n",
    "#li.append(df3)\n",
    "#li.append(df4)\n",
    "#li.append(df5)\n",
    "#li.append(df6)"
   ]
  },
  {
   "cell_type": "code",
   "execution_count": 6,
   "metadata": {},
   "outputs": [],
   "source": [
    "#week1 = pd.concat(li, axis=0, ignore_index=True)"
   ]
  },
  {
   "cell_type": "code",
   "execution_count": 7,
   "metadata": {},
   "outputs": [],
   "source": [
    "def plot_voronoi(df, gameid, playid, frameid):\n",
    "    away = df[(df['gameId'] == gameid)&(df['team'] == 'away')&(df['playId'] == playid)&(df['frameId'] == frameid)]\n",
    "    home = df[(df['gameId'] == gameid)&(df['team'] == 'home')&(df['playId'] == playid)&(df['frameId'] == frameid)]\n",
    "    ball = df[(df['gameId'] == gameid)&(df['displayName'] == 'Football')&(df['playId'] == playid)&(df['frameId'] == frameid)]\n",
    "    ball_start = df[(df['gameId'] == gameid)&(df['displayName'] == 'Football')&(df['playId'] == playid)&(df['event'] == 'ball_snap')]\n",
    "    \n",
    "    homex = home.loc[:, 'x']\n",
    "    homey = home.loc[:, 'y']\n",
    "    \n",
    "    awayx = away.loc[:, 'x']\n",
    "    awayy = away.loc[:, 'y']\n",
    "\n",
    "    ballx = ball.loc[:, 'x']\n",
    "    bally = ball.loc[:, 'y']\n",
    "    \n",
    "    ballstartx = ball_start.loc[:, 'x']\n",
    "    \n",
    "    #We subtract 10 from each of our x measurements to obtain the actual yards to each endzone\n",
    "    points = [[x-10, y] for x, y in zip(homex, homey)]\n",
    "    points.extend([[x-10, y] for x, y, in zip(awayx, awayy)])\n",
    "    #points.extend([[x, y] for x, y, in zip(ballx, bally)])\n",
    "\n",
    "    v = Voronoi(points)\n",
    "    voronoi_plot_2d(v)\n",
    "    \n",
    "    plt.scatter(homex-10, homey, color = 'r', label = 'home')\n",
    "    plt.scatter(awayx-10, awayy, color = 'b', label = 'away')\n",
    "    plt.scatter(ballx-10, bally, color = 'g', label = 'football')\n",
    "    plt.axvline(x=ballstartx.values-10, color = \"k\", linewidth = 0.5)\n",
    "    plt.axhline(y = 53.3, color = \"k\", linewidth = 1)\n",
    "    plt.axhline(y = 0, color = \"k\", linewidth = 1)\n",
    "    plt.axvline(x= 100, color = \"r\", linewidth = 0.5)\n",
    "    plt.axvline(x= 110, color = \"r\", linewidth = 0.5)\n",
    "    plt.ylim((-2, 55))\n",
    "    plt.legend()\n",
    "    plt.show()"
   ]
  },
  {
   "cell_type": "code",
   "execution_count": 8,
   "metadata": {},
   "outputs": [
    {
     "data": {
      "image/png": "[encoded data removed]",
      "text/plain": [
       "<Figure size 432x288 with 1 Axes>"
      ]
     },
     "metadata": {
      "needs_background": "light"
     },
     "output_type": "display_data"
    }
   ],
   "source": [
    "plot_voronoi(week1, 2018090900, 947, 47)"
   ]
  },
  {
   "cell_type": "code",
   "execution_count": 9,
   "metadata": {},
   "outputs": [],
   "source": [
    "#Create additional column on week1 for a unique identifier of gameId and playId\n",
    "week1['gp'] = week1['gameId'].astype(str)+ '_' + week1['playId'].astype(str)"
   ]
  },
  {
   "cell_type": "code",
   "execution_count": 10,
   "metadata": {},
   "outputs": [],
   "source": [
    "#Create temp df for only QBs. We know QBs are always attacking so we will knnow what game/play/team combination\n",
    "#corresponds to players that are attacking\n",
    "qbs = week1[(week1['event'] == 'pass_forward')&(week1['position'] == 'QB')]"
   ]
  },
  {
   "cell_type": "code",
   "execution_count": 11,
   "metadata": {},
   "outputs": [],
   "source": [
    "#We drop all columns except team, gp, our QB's x and y coordinates which are the ones were interested in\n",
    "qbs.drop(qbs.columns.difference(['team','gp', 'x', 'y']), 1, inplace=True)"
   ]
  },
  {
   "cell_type": "code",
   "execution_count": 12,
   "metadata": {},
   "outputs": [],
   "source": [
    "#We drop duplicates, as we don't really need the same information for each frame\n",
    "qbs.drop_duplicates(subset=['gp'], inplace = True)"
   ]
  },
  {
   "cell_type": "code",
   "execution_count": 13,
   "metadata": {},
   "outputs": [],
   "source": [
    "football = week1[(week1['displayName'] == 'Football') & (week1['event'].isin(['pass_outcome_touchdown', 'pass_outcome_caught', 'pass_outcome_incomplete', 'pass_outcome_interception']))]"
   ]
  },
  {
   "cell_type": "code",
   "execution_count": 14,
   "metadata": {},
   "outputs": [],
   "source": [
    "football.drop(football.columns.difference(['gp', 'x', 'y']), 1, inplace=True)"
   ]
  },
  {
   "cell_type": "code",
   "execution_count": 15,
   "metadata": {},
   "outputs": [],
   "source": [
    "week1 = week1.merge(football, on = 'gp', suffixes=('', '_football'))"
   ]
  },
  {
   "cell_type": "code",
   "execution_count": 16,
   "metadata": {},
   "outputs": [],
   "source": [
    "#We merge our qbs data frame with our week1 dataframe based on game/play id\n",
    "week1 = week1.merge(qbs, on =\"gp\", suffixes=('', '_qb_pass_forward'))"
   ]
  },
  {
   "cell_type": "code",
   "execution_count": 17,
   "metadata": {},
   "outputs": [],
   "source": [
    "#We create function to compute distance\n",
    "def dist(x1, y1, x2, y2):\n",
    "    dis = np.sqrt((x2-x1) ** 2 + (y2-y1) ** 2)\n",
    "    return dis"
   ]
  },
  {
   "cell_type": "code",
   "execution_count": 18,
   "metadata": {},
   "outputs": [],
   "source": [
    "week1['distance_to_football'] = dist(week1[['x']].values, week1[['y']].values, week1[['x_football']].values, week1[['y_football']].values)"
   ]
  },
  {
   "cell_type": "code",
   "execution_count": 19,
   "metadata": {},
   "outputs": [
    {
     "data": {
      "text/plain": [
       "array([['2018-09-07T01:07:14.599Z', 90.11, 26.85, 0.0, 0.0, 0.0, nan,\n",
       "        nan, 'None', nan, 'Football', nan, nan, 1, 'football',\n",
       "        2018090600, 75, 'left', nan, '2018090600_75', 81.52, 50.88,\n",
       "        96.43, 26.78, 'away', 25.51918885858248],\n",
       "       ['2018-09-07T01:07:14.700Z', 90.11, 26.85, 0.0, 0.0, 0.0, nan,\n",
       "        nan, 'None', nan, 'Football', nan, nan, 2, 'football',\n",
       "        2018090600, 75, 'left', nan, '2018090600_75', 81.52, 50.88,\n",
       "        96.43, 26.78, 'away', 25.51918885858248]], dtype=object)"
      ]
     },
     "execution_count": 19,
     "metadata": {},
     "output_type": "execute_result"
    }
   ],
   "source": [
    "week1[(week1['displayName'] == 'Football')&(week1['event'] != 'pass_forward')].iloc[0:2,:].values"
   ]
  },
  {
   "cell_type": "code",
   "execution_count": 20,
   "metadata": {},
   "outputs": [],
   "source": [
    "#We create a new column called \"offense\" if our row's 'team' agrees with that of the appended qbs\n",
    "#If it does, that means the player is on the same team as the QB and is attacking. In this case, we set our \n",
    "#value to True. If it does not, it means the player is defending, and we set our value to False\n",
    "week1['offense'] = np.where(week1['team'] == week1['team_qb_pass_forward'], 1, 0)"
   ]
  },
  {
   "cell_type": "code",
   "execution_count": 21,
   "metadata": {},
   "outputs": [],
   "source": [
    "#We drop our second teams column\n",
    "week1.drop('team_qb_pass_forward', axis = 1, inplace = True)"
   ]
  },
  {
   "cell_type": "code",
   "execution_count": 22,
   "metadata": {},
   "outputs": [],
   "source": [
    "passing_df = week1[week1['event'].isin(['pass_forward'])]"
   ]
  },
  {
   "cell_type": "code",
   "execution_count": 23,
   "metadata": {},
   "outputs": [],
   "source": [
    "outcomes = week1[['event','playId']][week1['event'].isin(['pass_outcome_touchdown', 'pass_outcome_caught', 'pass_outcome_incomplete', 'pass_outcome_interception'])].drop_duplicates()"
   ]
  },
  {
   "cell_type": "code",
   "execution_count": 24,
   "metadata": {},
   "outputs": [],
   "source": [
    "passing_df = passing_df.merge(outcomes, on='playId')"
   ]
  },
  {
   "cell_type": "code",
   "execution_count": 25,
   "metadata": {},
   "outputs": [],
   "source": [
    "#To add columns of the relative x and y coordinates for each player/football with respect to \n",
    "#the QB at pass_forward. Adjusted for left/right orientation so that a player between the QB and\n",
    "#the endzone will have a positive x coordinate\n",
    "passing_df['rel_x'] = np.where(passing_df['playDirection'] == 'left',\n",
    "                               passing_df['x_qb_pass_forward'] - passing_df['x'],\n",
    "                              passing_df['x'] - passing_df['x_qb_pass_forward'])\n",
    "passing_df['rel_y'] = passing_df['y'] - passing_df['y_qb_pass_forward']"
   ]
  },
  {
   "cell_type": "code",
   "execution_count": 26,
   "metadata": {},
   "outputs": [],
   "source": [
    "#Add column for x coordinate of football at ball_snap and rename columns respectively\n",
    "passing_df = passing_df.merge(week1[(week1['event'] == 'ball_snap') & (week1['gp'].isin(passing_df.loc[:, 'gp'].unique()))&(week1['displayName'] == 'Football')].loc[:, ['x', 'gp']], on='gp')\n",
    "passing_df.rename(columns={'x_x':'x', 'x_y':'x_snap'}, inplace=True)"
   ]
  },
  {
   "cell_type": "code",
   "execution_count": 27,
   "metadata": {},
   "outputs": [],
   "source": [
    "#To account for the 10 endzone yards\n",
    "passing_df['x_snap'] = passing_df['x_snap'] - 10"
   ]
  },
  {
   "cell_type": "code",
   "execution_count": 28,
   "metadata": {},
   "outputs": [
    {
     "data": {
      "text/plain": [
       "0        pass_outcome_caught\n",
       "1        pass_outcome_caught\n",
       "2        pass_outcome_caught\n",
       "3        pass_outcome_caught\n",
       "4        pass_outcome_caught\n",
       "                ...         \n",
       "15295    pass_outcome_caught\n",
       "15296    pass_outcome_caught\n",
       "15297    pass_outcome_caught\n",
       "15298    pass_outcome_caught\n",
       "15299    pass_outcome_caught\n",
       "Name: event_y, Length: 15300, dtype: object"
      ]
     },
     "execution_count": 28,
     "metadata": {},
     "output_type": "execute_result"
    }
   ],
   "source": [
    "passing_df.loc[:, 'event_y']"
   ]
  },
  {
   "cell_type": "code",
   "execution_count": 29,
   "metadata": {},
   "outputs": [
    {
     "data": {
      "text/plain": [
       "(15300, 30)"
      ]
     },
     "execution_count": 29,
     "metadata": {},
     "output_type": "execute_result"
    }
   ],
   "source": [
    "passing_df.shape"
   ]
  },
  {
   "cell_type": "markdown",
   "metadata": {},
   "source": [
    "### Let's add a column to denote the offense player that was targeted, based on the distance of the ball when 'pass_arrived' event happens. Additionally, we'll add speed, x, y, and relative speed, x, and y."
   ]
  },
  {
   "cell_type": "code",
   "execution_count": 30,
   "metadata": {},
   "outputs": [],
   "source": [
    "targeted_dist_table = week1[['gp', 'nflId', 'distance_to_football', 's', 'x', 'y']][(week1['event'] == 'pass_arrived') & (week1['offense'] == 1)]\n",
    "targeted_dist_table_min = week1[['gp','distance_to_football']][(week1['event'] == 'pass_arrived') & (week1['offense'] ==1)].groupby(by = 'gp').min()"
   ]
  },
  {
   "cell_type": "code",
   "execution_count": 31,
   "metadata": {},
   "outputs": [],
   "source": [
    "targeted_dist_table = targeted_dist_table.merge(targeted_dist_table_min, on = 'gp')"
   ]
  },
  {
   "cell_type": "code",
   "execution_count": 32,
   "metadata": {},
   "outputs": [],
   "source": [
    "targeted_dist_table['targeted'] = np.where(targeted_dist_table['distance_to_football_x'] == targeted_dist_table['distance_to_football_y'], 1, 0)"
   ]
  },
  {
   "cell_type": "code",
   "execution_count": 33,
   "metadata": {},
   "outputs": [],
   "source": [
    "targeted_dist_table.drop('distance_to_football_x', axis = 1, inplace = True)"
   ]
  },
  {
   "cell_type": "code",
   "execution_count": 34,
   "metadata": {},
   "outputs": [],
   "source": [
    "targeted_dist_table.rename(columns={'distance_to_football_y':'distance_to_football_targeted', \n",
    "                                   's':'target_s', 'x': 'target_x', 'y':'target_y'}, inplace=True)"
   ]
  },
  {
   "cell_type": "code",
   "execution_count": 35,
   "metadata": {},
   "outputs": [
    {
     "data": {
      "text/html": [
       "<div>\n",
       "<style scoped>\n",
       "    .dataframe tbody tr th:only-of-type {\n",
       "        vertical-align: middle;\n",
       "    }\n",
       "\n",
       "    .dataframe tbody tr th {\n",
       "        vertical-align: top;\n",
       "    }\n",
       "\n",
       "    .dataframe thead th {\n",
       "        text-align: right;\n",
       "    }\n",
       "</style>\n",
       "<table border=\"1\" class=\"dataframe\">\n",
       "  <thead>\n",
       "    <tr style=\"text-align: right;\">\n",
       "      <th></th>\n",
       "      <th>gp</th>\n",
       "      <th>nflId</th>\n",
       "      <th>target_s</th>\n",
       "      <th>target_x</th>\n",
       "      <th>target_y</th>\n",
       "      <th>distance_to_football_targeted</th>\n",
       "      <th>targeted</th>\n",
       "    </tr>\n",
       "  </thead>\n",
       "  <tbody>\n",
       "    <tr>\n",
       "      <th>0</th>\n",
       "      <td>2018090600_75</td>\n",
       "      <td>310.0</td>\n",
       "      <td>0.59</td>\n",
       "      <td>96.30</td>\n",
       "      <td>27.52</td>\n",
       "      <td>3.037795</td>\n",
       "      <td>0</td>\n",
       "    </tr>\n",
       "    <tr>\n",
       "      <th>1</th>\n",
       "      <td>2018090600_75</td>\n",
       "      <td>2495454.0</td>\n",
       "      <td>4.23</td>\n",
       "      <td>81.11</td>\n",
       "      <td>47.87</td>\n",
       "      <td>3.037795</td>\n",
       "      <td>1</td>\n",
       "    </tr>\n",
       "    <tr>\n",
       "      <th>2</th>\n",
       "      <td>2018090600_75</td>\n",
       "      <td>2533040.0</td>\n",
       "      <td>2.99</td>\n",
       "      <td>77.66</td>\n",
       "      <td>35.52</td>\n",
       "      <td>3.037795</td>\n",
       "      <td>0</td>\n",
       "    </tr>\n",
       "    <tr>\n",
       "      <th>3</th>\n",
       "      <td>2018090600_75</td>\n",
       "      <td>2543583.0</td>\n",
       "      <td>3.85</td>\n",
       "      <td>91.13</td>\n",
       "      <td>30.53</td>\n",
       "      <td>3.037795</td>\n",
       "      <td>0</td>\n",
       "    </tr>\n",
       "    <tr>\n",
       "      <th>4</th>\n",
       "      <td>2018090600_75</td>\n",
       "      <td>2555415.0</td>\n",
       "      <td>7.05</td>\n",
       "      <td>78.35</td>\n",
       "      <td>16.74</td>\n",
       "      <td>3.037795</td>\n",
       "      <td>0</td>\n",
       "    </tr>\n",
       "    <tr>\n",
       "      <th>...</th>\n",
       "      <td>...</td>\n",
       "      <td>...</td>\n",
       "      <td>...</td>\n",
       "      <td>...</td>\n",
       "      <td>...</td>\n",
       "      <td>...</td>\n",
       "      <td>...</td>\n",
       "    </tr>\n",
       "    <tr>\n",
       "      <th>4629</th>\n",
       "      <td>2018091001_4192</td>\n",
       "      <td>2534241.0</td>\n",
       "      <td>1.78</td>\n",
       "      <td>36.69</td>\n",
       "      <td>40.23</td>\n",
       "      <td>1.846212</td>\n",
       "      <td>0</td>\n",
       "    </tr>\n",
       "    <tr>\n",
       "      <th>4630</th>\n",
       "      <td>2018091001_4192</td>\n",
       "      <td>2543499.0</td>\n",
       "      <td>0.43</td>\n",
       "      <td>47.20</td>\n",
       "      <td>30.06</td>\n",
       "      <td>1.846212</td>\n",
       "      <td>0</td>\n",
       "    </tr>\n",
       "    <tr>\n",
       "      <th>4631</th>\n",
       "      <td>2018091001_4192</td>\n",
       "      <td>2550597.0</td>\n",
       "      <td>4.12</td>\n",
       "      <td>36.90</td>\n",
       "      <td>25.81</td>\n",
       "      <td>1.846212</td>\n",
       "      <td>0</td>\n",
       "    </tr>\n",
       "    <tr>\n",
       "      <th>4632</th>\n",
       "      <td>2018091001_4192</td>\n",
       "      <td>2552487.0</td>\n",
       "      <td>4.32</td>\n",
       "      <td>35.81</td>\n",
       "      <td>17.46</td>\n",
       "      <td>1.846212</td>\n",
       "      <td>0</td>\n",
       "    </tr>\n",
       "    <tr>\n",
       "      <th>4633</th>\n",
       "      <td>2018091001_4192</td>\n",
       "      <td>2556885.0</td>\n",
       "      <td>1.32</td>\n",
       "      <td>41.88</td>\n",
       "      <td>45.46</td>\n",
       "      <td>1.846212</td>\n",
       "      <td>1</td>\n",
       "    </tr>\n",
       "  </tbody>\n",
       "</table>\n",
       "<p>4634 rows × 7 columns</p>\n",
       "</div>"
      ],
      "text/plain": [
       "                   gp      nflId  target_s  target_x  target_y  \\\n",
       "0       2018090600_75      310.0      0.59     96.30     27.52   \n",
       "1       2018090600_75  2495454.0      4.23     81.11     47.87   \n",
       "2       2018090600_75  2533040.0      2.99     77.66     35.52   \n",
       "3       2018090600_75  2543583.0      3.85     91.13     30.53   \n",
       "4       2018090600_75  2555415.0      7.05     78.35     16.74   \n",
       "...               ...        ...       ...       ...       ...   \n",
       "4629  2018091001_4192  2534241.0      1.78     36.69     40.23   \n",
       "4630  2018091001_4192  2543499.0      0.43     47.20     30.06   \n",
       "4631  2018091001_4192  2550597.0      4.12     36.90     25.81   \n",
       "4632  2018091001_4192  2552487.0      4.32     35.81     17.46   \n",
       "4633  2018091001_4192  2556885.0      1.32     41.88     45.46   \n",
       "\n",
       "      distance_to_football_targeted  targeted  \n",
       "0                          3.037795         0  \n",
       "1                          3.037795         1  \n",
       "2                          3.037795         0  \n",
       "3                          3.037795         0  \n",
       "4                          3.037795         0  \n",
       "...                             ...       ...  \n",
       "4629                       1.846212         0  \n",
       "4630                       1.846212         0  \n",
       "4631                       1.846212         0  \n",
       "4632                       1.846212         0  \n",
       "4633                       1.846212         1  \n",
       "\n",
       "[4634 rows x 7 columns]"
      ]
     },
     "execution_count": 35,
     "metadata": {},
     "output_type": "execute_result"
    }
   ],
   "source": [
    "targeted_dist_table"
   ]
  },
  {
   "cell_type": "code",
   "execution_count": 36,
   "metadata": {},
   "outputs": [],
   "source": [
    "passing_df = passing_df.merge(targeted_dist_table[['gp', 'nflId', 'distance_to_football_targeted',\n",
    "                                                  'targeted']], on=['gp', 'nflId'], how = 'left')"
   ]
  },
  {
   "cell_type": "code",
   "execution_count": 37,
   "metadata": {},
   "outputs": [],
   "source": [
    "passing_df.drop('distance_to_football_targeted', axis = 1, inplace = True)\n",
    "passing_df.fillna(0, inplace = True)"
   ]
  },
  {
   "cell_type": "code",
   "execution_count": 38,
   "metadata": {},
   "outputs": [],
   "source": [
    "passing_df = passing_df.merge(targeted_dist_table[['distance_to_football_targeted', 'gp']].groupby(by ='gp').mean(), on=['gp'], how = 'left')"
   ]
  },
  {
   "cell_type": "code",
   "execution_count": 39,
   "metadata": {},
   "outputs": [
    {
     "data": {
      "text/plain": [
       "(15324, 32)"
      ]
     },
     "execution_count": 39,
     "metadata": {},
     "output_type": "execute_result"
    }
   ],
   "source": [
    "passing_df.shape"
   ]
  },
  {
   "cell_type": "code",
   "execution_count": 40,
   "metadata": {},
   "outputs": [
    {
     "data": {
      "text/html": [
       "<div>\n",
       "<style scoped>\n",
       "    .dataframe tbody tr th:only-of-type {\n",
       "        vertical-align: middle;\n",
       "    }\n",
       "\n",
       "    .dataframe tbody tr th {\n",
       "        vertical-align: top;\n",
       "    }\n",
       "\n",
       "    .dataframe thead th {\n",
       "        text-align: right;\n",
       "    }\n",
       "</style>\n",
       "<table border=\"1\" class=\"dataframe\">\n",
       "  <thead>\n",
       "    <tr style=\"text-align: right;\">\n",
       "      <th></th>\n",
       "      <th>time</th>\n",
       "      <th>x</th>\n",
       "      <th>y</th>\n",
       "      <th>s</th>\n",
       "      <th>a</th>\n",
       "      <th>dis</th>\n",
       "      <th>o</th>\n",
       "      <th>dir</th>\n",
       "      <th>event_x</th>\n",
       "      <th>nflId</th>\n",
       "      <th>...</th>\n",
       "      <th>x_qb_pass_forward</th>\n",
       "      <th>y_qb_pass_forward</th>\n",
       "      <th>distance_to_football</th>\n",
       "      <th>offense</th>\n",
       "      <th>event_y</th>\n",
       "      <th>rel_x</th>\n",
       "      <th>rel_y</th>\n",
       "      <th>x_snap</th>\n",
       "      <th>targeted</th>\n",
       "      <th>distance_to_football_targeted</th>\n",
       "    </tr>\n",
       "  </thead>\n",
       "  <tbody>\n",
       "    <tr>\n",
       "      <th>0</th>\n",
       "      <td>2018-09-07T01:07:18.099Z</td>\n",
       "      <td>96.43</td>\n",
       "      <td>26.78</td>\n",
       "      <td>0.84</td>\n",
       "      <td>2.05</td>\n",
       "      <td>0.08</td>\n",
       "      <td>356.40</td>\n",
       "      <td>333.39</td>\n",
       "      <td>pass_forward</td>\n",
       "      <td>310.0</td>\n",
       "      <td>...</td>\n",
       "      <td>96.43</td>\n",
       "      <td>26.78</td>\n",
       "      <td>28.339338</td>\n",
       "      <td>1</td>\n",
       "      <td>pass_outcome_caught</td>\n",
       "      <td>0.00</td>\n",
       "      <td>0.00</td>\n",
       "      <td>80.11</td>\n",
       "      <td>0.0</td>\n",
       "      <td>3.037795</td>\n",
       "    </tr>\n",
       "    <tr>\n",
       "      <th>1</th>\n",
       "      <td>2018-09-07T01:07:18.099Z</td>\n",
       "      <td>84.82</td>\n",
       "      <td>38.33</td>\n",
       "      <td>5.53</td>\n",
       "      <td>4.30</td>\n",
       "      <td>0.54</td>\n",
       "      <td>295.34</td>\n",
       "      <td>318.58</td>\n",
       "      <td>pass_forward</td>\n",
       "      <td>79848.0</td>\n",
       "      <td>...</td>\n",
       "      <td>96.43</td>\n",
       "      <td>26.78</td>\n",
       "      <td>12.976614</td>\n",
       "      <td>0</td>\n",
       "      <td>pass_outcome_caught</td>\n",
       "      <td>11.61</td>\n",
       "      <td>11.55</td>\n",
       "      <td>80.11</td>\n",
       "      <td>0.0</td>\n",
       "      <td>3.037795</td>\n",
       "    </tr>\n",
       "    <tr>\n",
       "      <th>2</th>\n",
       "      <td>2018-09-07T01:07:18.099Z</td>\n",
       "      <td>80.69</td>\n",
       "      <td>44.91</td>\n",
       "      <td>3.11</td>\n",
       "      <td>6.67</td>\n",
       "      <td>0.34</td>\n",
       "      <td>155.11</td>\n",
       "      <td>297.88</td>\n",
       "      <td>pass_forward</td>\n",
       "      <td>2495454.0</td>\n",
       "      <td>...</td>\n",
       "      <td>96.43</td>\n",
       "      <td>26.78</td>\n",
       "      <td>6.027421</td>\n",
       "      <td>1</td>\n",
       "      <td>pass_outcome_caught</td>\n",
       "      <td>15.74</td>\n",
       "      <td>18.13</td>\n",
       "      <td>80.11</td>\n",
       "      <td>1.0</td>\n",
       "      <td>3.037795</td>\n",
       "    </tr>\n",
       "    <tr>\n",
       "      <th>3</th>\n",
       "      <td>2018-09-07T01:07:18.099Z</td>\n",
       "      <td>86.02</td>\n",
       "      <td>18.64</td>\n",
       "      <td>3.52</td>\n",
       "      <td>0.69</td>\n",
       "      <td>0.35</td>\n",
       "      <td>28.19</td>\n",
       "      <td>216.15</td>\n",
       "      <td>pass_forward</td>\n",
       "      <td>2495613.0</td>\n",
       "      <td>...</td>\n",
       "      <td>96.43</td>\n",
       "      <td>26.78</td>\n",
       "      <td>32.552536</td>\n",
       "      <td>0</td>\n",
       "      <td>pass_outcome_caught</td>\n",
       "      <td>10.41</td>\n",
       "      <td>-8.14</td>\n",
       "      <td>80.11</td>\n",
       "      <td>0.0</td>\n",
       "      <td>3.037795</td>\n",
       "    </tr>\n",
       "    <tr>\n",
       "      <th>4</th>\n",
       "      <td>2018-09-07T01:07:18.099Z</td>\n",
       "      <td>82.65</td>\n",
       "      <td>34.56</td>\n",
       "      <td>6.35</td>\n",
       "      <td>1.21</td>\n",
       "      <td>0.64</td>\n",
       "      <td>262.06</td>\n",
       "      <td>272.78</td>\n",
       "      <td>pass_forward</td>\n",
       "      <td>2533040.0</td>\n",
       "      <td>...</td>\n",
       "      <td>96.43</td>\n",
       "      <td>26.78</td>\n",
       "      <td>16.359074</td>\n",
       "      <td>1</td>\n",
       "      <td>pass_outcome_caught</td>\n",
       "      <td>13.78</td>\n",
       "      <td>7.78</td>\n",
       "      <td>80.11</td>\n",
       "      <td>0.0</td>\n",
       "      <td>3.037795</td>\n",
       "    </tr>\n",
       "  </tbody>\n",
       "</table>\n",
       "<p>5 rows × 32 columns</p>\n",
       "</div>"
      ],
      "text/plain": [
       "                       time      x      y     s     a   dis       o     dir  \\\n",
       "0  2018-09-07T01:07:18.099Z  96.43  26.78  0.84  2.05  0.08  356.40  333.39   \n",
       "1  2018-09-07T01:07:18.099Z  84.82  38.33  5.53  4.30  0.54  295.34  318.58   \n",
       "2  2018-09-07T01:07:18.099Z  80.69  44.91  3.11  6.67  0.34  155.11  297.88   \n",
       "3  2018-09-07T01:07:18.099Z  86.02  18.64  3.52  0.69  0.35   28.19  216.15   \n",
       "4  2018-09-07T01:07:18.099Z  82.65  34.56  6.35  1.21  0.64  262.06  272.78   \n",
       "\n",
       "        event_x      nflId  ... x_qb_pass_forward  y_qb_pass_forward  \\\n",
       "0  pass_forward      310.0  ...             96.43              26.78   \n",
       "1  pass_forward    79848.0  ...             96.43              26.78   \n",
       "2  pass_forward  2495454.0  ...             96.43              26.78   \n",
       "3  pass_forward  2495613.0  ...             96.43              26.78   \n",
       "4  pass_forward  2533040.0  ...             96.43              26.78   \n",
       "\n",
       "  distance_to_football  offense              event_y  rel_x  rel_y x_snap  \\\n",
       "0            28.339338        1  pass_outcome_caught   0.00   0.00  80.11   \n",
       "1            12.976614        0  pass_outcome_caught  11.61  11.55  80.11   \n",
       "2             6.027421        1  pass_outcome_caught  15.74  18.13  80.11   \n",
       "3            32.552536        0  pass_outcome_caught  10.41  -8.14  80.11   \n",
       "4            16.359074        1  pass_outcome_caught  13.78   7.78  80.11   \n",
       "\n",
       "  targeted distance_to_football_targeted  \n",
       "0      0.0                      3.037795  \n",
       "1      0.0                      3.037795  \n",
       "2      1.0                      3.037795  \n",
       "3      0.0                      3.037795  \n",
       "4      0.0                      3.037795  \n",
       "\n",
       "[5 rows x 32 columns]"
      ]
     },
     "execution_count": 40,
     "metadata": {},
     "output_type": "execute_result"
    }
   ],
   "source": [
    "passing_df.head()"
   ]
  },
  {
   "cell_type": "code",
   "execution_count": 41,
   "metadata": {},
   "outputs": [],
   "source": [
    "passing_df.drop(['time', 'position', 'team', 'event_x', 'route', 'nflId', 'displayName', 'jerseyNumber', 'frameId', 'gameId', 'playId', 'playDirection'], 1, inplace = True)"
   ]
  },
  {
   "cell_type": "code",
   "execution_count": 42,
   "metadata": {},
   "outputs": [],
   "source": [
    "passing_df.dropna(inplace = True)"
   ]
  },
  {
   "cell_type": "code",
   "execution_count": 43,
   "metadata": {},
   "outputs": [
    {
     "data": {
      "text/plain": [
       "(12250, 20)"
      ]
     },
     "execution_count": 43,
     "metadata": {},
     "output_type": "execute_result"
    }
   ],
   "source": [
    "passing_df.shape"
   ]
  },
  {
   "cell_type": "code",
   "execution_count": 44,
   "metadata": {},
   "outputs": [],
   "source": [
    "passing_df['event_y'] = passing_df['event_y'].replace(['pass_outcome_touchdown'], 'pass_outcome_caught')\n",
    "passing_df['event_y'] = passing_df['event_y'].replace(['pass_outcome_interception'], 'pass_outcome_incomplete')"
   ]
  },
  {
   "cell_type": "code",
   "execution_count": 45,
   "metadata": {},
   "outputs": [
    {
     "data": {
      "text/html": [
       "<div>\n",
       "<style scoped>\n",
       "    .dataframe tbody tr th:only-of-type {\n",
       "        vertical-align: middle;\n",
       "    }\n",
       "\n",
       "    .dataframe tbody tr th {\n",
       "        vertical-align: top;\n",
       "    }\n",
       "\n",
       "    .dataframe thead th {\n",
       "        text-align: right;\n",
       "    }\n",
       "</style>\n",
       "<table border=\"1\" class=\"dataframe\">\n",
       "  <thead>\n",
       "    <tr style=\"text-align: right;\">\n",
       "      <th></th>\n",
       "      <th>target_s</th>\n",
       "      <th>gp</th>\n",
       "      <th>target_x</th>\n",
       "      <th>target_y</th>\n",
       "    </tr>\n",
       "  </thead>\n",
       "  <tbody>\n",
       "    <tr>\n",
       "      <th>1</th>\n",
       "      <td>4.23</td>\n",
       "      <td>2018090600_75</td>\n",
       "      <td>81.11</td>\n",
       "      <td>47.87</td>\n",
       "    </tr>\n",
       "    <tr>\n",
       "      <th>11</th>\n",
       "      <td>0.16</td>\n",
       "      <td>2018090600_146</td>\n",
       "      <td>44.79</td>\n",
       "      <td>36.79</td>\n",
       "    </tr>\n",
       "    <tr>\n",
       "      <th>13</th>\n",
       "      <td>7.88</td>\n",
       "      <td>2018090600_190</td>\n",
       "      <td>25.99</td>\n",
       "      <td>12.13</td>\n",
       "    </tr>\n",
       "    <tr>\n",
       "      <th>20</th>\n",
       "      <td>6.39</td>\n",
       "      <td>2018090600_256</td>\n",
       "      <td>8.87</td>\n",
       "      <td>40.65</td>\n",
       "    </tr>\n",
       "    <tr>\n",
       "      <th>28</th>\n",
       "      <td>6.62</td>\n",
       "      <td>2018090600_320</td>\n",
       "      <td>17.58</td>\n",
       "      <td>46.78</td>\n",
       "    </tr>\n",
       "    <tr>\n",
       "      <th>...</th>\n",
       "      <td>...</td>\n",
       "      <td>...</td>\n",
       "      <td>...</td>\n",
       "      <td>...</td>\n",
       "    </tr>\n",
       "    <tr>\n",
       "      <th>4609</th>\n",
       "      <td>6.55</td>\n",
       "      <td>2018091001_3952</td>\n",
       "      <td>65.08</td>\n",
       "      <td>5.18</td>\n",
       "    </tr>\n",
       "    <tr>\n",
       "      <th>4611</th>\n",
       "      <td>5.07</td>\n",
       "      <td>2018091001_3976</td>\n",
       "      <td>59.97</td>\n",
       "      <td>28.91</td>\n",
       "    </tr>\n",
       "    <tr>\n",
       "      <th>4617</th>\n",
       "      <td>5.01</td>\n",
       "      <td>2018091001_4123</td>\n",
       "      <td>72.96</td>\n",
       "      <td>13.98</td>\n",
       "    </tr>\n",
       "    <tr>\n",
       "      <th>4625</th>\n",
       "      <td>5.01</td>\n",
       "      <td>2018091001_4147</td>\n",
       "      <td>45.95</td>\n",
       "      <td>43.63</td>\n",
       "    </tr>\n",
       "    <tr>\n",
       "      <th>4633</th>\n",
       "      <td>1.32</td>\n",
       "      <td>2018091001_4192</td>\n",
       "      <td>41.88</td>\n",
       "      <td>45.46</td>\n",
       "    </tr>\n",
       "  </tbody>\n",
       "</table>\n",
       "<p>772 rows × 4 columns</p>\n",
       "</div>"
      ],
      "text/plain": [
       "      target_s               gp  target_x  target_y\n",
       "1         4.23    2018090600_75     81.11     47.87\n",
       "11        0.16   2018090600_146     44.79     36.79\n",
       "13        7.88   2018090600_190     25.99     12.13\n",
       "20        6.39   2018090600_256      8.87     40.65\n",
       "28        6.62   2018090600_320     17.58     46.78\n",
       "...        ...              ...       ...       ...\n",
       "4609      6.55  2018091001_3952     65.08      5.18\n",
       "4611      5.07  2018091001_3976     59.97     28.91\n",
       "4617      5.01  2018091001_4123     72.96     13.98\n",
       "4625      5.01  2018091001_4147     45.95     43.63\n",
       "4633      1.32  2018091001_4192     41.88     45.46\n",
       "\n",
       "[772 rows x 4 columns]"
      ]
     },
     "execution_count": 45,
     "metadata": {},
     "output_type": "execute_result"
    }
   ],
   "source": [
    "targeted_dist_table[['target_s', 'gp', 'target_x', 'target_y']][targeted_dist_table['targeted'] == 1]"
   ]
  },
  {
   "cell_type": "code",
   "execution_count": 46,
   "metadata": {},
   "outputs": [],
   "source": [
    "passing_df = passing_df.merge(targeted_dist_table[['target_s', 'target_x', 'target_y', 'gp']][targeted_dist_table['targeted'] == 1], on=['gp'], how = 'left')"
   ]
  },
  {
   "cell_type": "markdown",
   "metadata": {},
   "source": [
    "passing_df.head()"
   ]
  },
  {
   "cell_type": "code",
   "execution_count": 47,
   "metadata": {},
   "outputs": [],
   "source": [
    "#To add columns of the relative speed for each player/football with respect to \n",
    "#the targeted WR at pass_forward.\n",
    "passing_df['rel_s'] = passing_df['target_s'] - passing_df['s']\n",
    "passing_df['rel_x_target'] = passing_df['target_x'] - passing_df['x']\n",
    "passing_df['rel_y_target'] = passing_df['target_y'] - passing_df['y']"
   ]
  },
  {
   "cell_type": "code",
   "execution_count": 48,
   "metadata": {},
   "outputs": [
    {
     "data": {
      "text/html": [
       "<div>\n",
       "<style scoped>\n",
       "    .dataframe tbody tr th:only-of-type {\n",
       "        vertical-align: middle;\n",
       "    }\n",
       "\n",
       "    .dataframe tbody tr th {\n",
       "        vertical-align: top;\n",
       "    }\n",
       "\n",
       "    .dataframe thead th {\n",
       "        text-align: right;\n",
       "    }\n",
       "</style>\n",
       "<table border=\"1\" class=\"dataframe\">\n",
       "  <thead>\n",
       "    <tr style=\"text-align: right;\">\n",
       "      <th></th>\n",
       "      <th>x</th>\n",
       "      <th>y</th>\n",
       "      <th>s</th>\n",
       "      <th>a</th>\n",
       "      <th>dis</th>\n",
       "      <th>o</th>\n",
       "      <th>dir</th>\n",
       "      <th>gp</th>\n",
       "      <th>x_football</th>\n",
       "      <th>y_football</th>\n",
       "      <th>...</th>\n",
       "      <th>rel_y</th>\n",
       "      <th>x_snap</th>\n",
       "      <th>targeted</th>\n",
       "      <th>distance_to_football_targeted</th>\n",
       "      <th>target_s</th>\n",
       "      <th>target_x</th>\n",
       "      <th>target_y</th>\n",
       "      <th>rel_s</th>\n",
       "      <th>rel_x_target</th>\n",
       "      <th>rel_y_target</th>\n",
       "    </tr>\n",
       "  </thead>\n",
       "  <tbody>\n",
       "    <tr>\n",
       "      <th>0</th>\n",
       "      <td>96.43</td>\n",
       "      <td>26.78</td>\n",
       "      <td>0.84</td>\n",
       "      <td>2.05</td>\n",
       "      <td>0.08</td>\n",
       "      <td>356.40</td>\n",
       "      <td>333.39</td>\n",
       "      <td>2018090600_75</td>\n",
       "      <td>81.52</td>\n",
       "      <td>50.88</td>\n",
       "      <td>...</td>\n",
       "      <td>0.00</td>\n",
       "      <td>80.11</td>\n",
       "      <td>0.0</td>\n",
       "      <td>3.037795</td>\n",
       "      <td>4.23</td>\n",
       "      <td>81.11</td>\n",
       "      <td>47.87</td>\n",
       "      <td>3.39</td>\n",
       "      <td>-15.32</td>\n",
       "      <td>21.09</td>\n",
       "    </tr>\n",
       "    <tr>\n",
       "      <th>1</th>\n",
       "      <td>84.82</td>\n",
       "      <td>38.33</td>\n",
       "      <td>5.53</td>\n",
       "      <td>4.30</td>\n",
       "      <td>0.54</td>\n",
       "      <td>295.34</td>\n",
       "      <td>318.58</td>\n",
       "      <td>2018090600_75</td>\n",
       "      <td>81.52</td>\n",
       "      <td>50.88</td>\n",
       "      <td>...</td>\n",
       "      <td>11.55</td>\n",
       "      <td>80.11</td>\n",
       "      <td>0.0</td>\n",
       "      <td>3.037795</td>\n",
       "      <td>4.23</td>\n",
       "      <td>81.11</td>\n",
       "      <td>47.87</td>\n",
       "      <td>-1.30</td>\n",
       "      <td>-3.71</td>\n",
       "      <td>9.54</td>\n",
       "    </tr>\n",
       "    <tr>\n",
       "      <th>2</th>\n",
       "      <td>80.69</td>\n",
       "      <td>44.91</td>\n",
       "      <td>3.11</td>\n",
       "      <td>6.67</td>\n",
       "      <td>0.34</td>\n",
       "      <td>155.11</td>\n",
       "      <td>297.88</td>\n",
       "      <td>2018090600_75</td>\n",
       "      <td>81.52</td>\n",
       "      <td>50.88</td>\n",
       "      <td>...</td>\n",
       "      <td>18.13</td>\n",
       "      <td>80.11</td>\n",
       "      <td>1.0</td>\n",
       "      <td>3.037795</td>\n",
       "      <td>4.23</td>\n",
       "      <td>81.11</td>\n",
       "      <td>47.87</td>\n",
       "      <td>1.12</td>\n",
       "      <td>0.42</td>\n",
       "      <td>2.96</td>\n",
       "    </tr>\n",
       "    <tr>\n",
       "      <th>3</th>\n",
       "      <td>86.02</td>\n",
       "      <td>18.64</td>\n",
       "      <td>3.52</td>\n",
       "      <td>0.69</td>\n",
       "      <td>0.35</td>\n",
       "      <td>28.19</td>\n",
       "      <td>216.15</td>\n",
       "      <td>2018090600_75</td>\n",
       "      <td>81.52</td>\n",
       "      <td>50.88</td>\n",
       "      <td>...</td>\n",
       "      <td>-8.14</td>\n",
       "      <td>80.11</td>\n",
       "      <td>0.0</td>\n",
       "      <td>3.037795</td>\n",
       "      <td>4.23</td>\n",
       "      <td>81.11</td>\n",
       "      <td>47.87</td>\n",
       "      <td>0.71</td>\n",
       "      <td>-4.91</td>\n",
       "      <td>29.23</td>\n",
       "    </tr>\n",
       "    <tr>\n",
       "      <th>4</th>\n",
       "      <td>82.65</td>\n",
       "      <td>34.56</td>\n",
       "      <td>6.35</td>\n",
       "      <td>1.21</td>\n",
       "      <td>0.64</td>\n",
       "      <td>262.06</td>\n",
       "      <td>272.78</td>\n",
       "      <td>2018090600_75</td>\n",
       "      <td>81.52</td>\n",
       "      <td>50.88</td>\n",
       "      <td>...</td>\n",
       "      <td>7.78</td>\n",
       "      <td>80.11</td>\n",
       "      <td>0.0</td>\n",
       "      <td>3.037795</td>\n",
       "      <td>4.23</td>\n",
       "      <td>81.11</td>\n",
       "      <td>47.87</td>\n",
       "      <td>-2.12</td>\n",
       "      <td>-1.54</td>\n",
       "      <td>13.31</td>\n",
       "    </tr>\n",
       "  </tbody>\n",
       "</table>\n",
       "<p>5 rows × 26 columns</p>\n",
       "</div>"
      ],
      "text/plain": [
       "       x      y     s     a   dis       o     dir             gp  x_football  \\\n",
       "0  96.43  26.78  0.84  2.05  0.08  356.40  333.39  2018090600_75       81.52   \n",
       "1  84.82  38.33  5.53  4.30  0.54  295.34  318.58  2018090600_75       81.52   \n",
       "2  80.69  44.91  3.11  6.67  0.34  155.11  297.88  2018090600_75       81.52   \n",
       "3  86.02  18.64  3.52  0.69  0.35   28.19  216.15  2018090600_75       81.52   \n",
       "4  82.65  34.56  6.35  1.21  0.64  262.06  272.78  2018090600_75       81.52   \n",
       "\n",
       "   y_football  ...  rel_y  x_snap  targeted  distance_to_football_targeted  \\\n",
       "0       50.88  ...   0.00   80.11       0.0                       3.037795   \n",
       "1       50.88  ...  11.55   80.11       0.0                       3.037795   \n",
       "2       50.88  ...  18.13   80.11       1.0                       3.037795   \n",
       "3       50.88  ...  -8.14   80.11       0.0                       3.037795   \n",
       "4       50.88  ...   7.78   80.11       0.0                       3.037795   \n",
       "\n",
       "  target_s  target_x  target_y  rel_s  rel_x_target  rel_y_target  \n",
       "0     4.23     81.11     47.87   3.39        -15.32         21.09  \n",
       "1     4.23     81.11     47.87  -1.30         -3.71          9.54  \n",
       "2     4.23     81.11     47.87   1.12          0.42          2.96  \n",
       "3     4.23     81.11     47.87   0.71         -4.91         29.23  \n",
       "4     4.23     81.11     47.87  -2.12         -1.54         13.31  \n",
       "\n",
       "[5 rows x 26 columns]"
      ]
     },
     "execution_count": 48,
     "metadata": {},
     "output_type": "execute_result"
    }
   ],
   "source": [
    "passing_df.head()"
   ]
  },
  {
   "cell_type": "code",
   "execution_count": 49,
   "metadata": {},
   "outputs": [
    {
     "data": {
      "text/plain": [
       "pass_outcome_caught        8585\n",
       "pass_outcome_incomplete    3665\n",
       "Name: event_y, dtype: int64"
      ]
     },
     "execution_count": 49,
     "metadata": {},
     "output_type": "execute_result"
    }
   ],
   "source": [
    "#Data is a bit imbalanced, but not enough to require any significant data processing\n",
    "passing_df['event_y'].value_counts()"
   ]
  },
  {
   "cell_type": "code",
   "execution_count": 50,
   "metadata": {},
   "outputs": [
    {
     "data": {
      "text/html": [
       "<div>\n",
       "<style scoped>\n",
       "    .dataframe tbody tr th:only-of-type {\n",
       "        vertical-align: middle;\n",
       "    }\n",
       "\n",
       "    .dataframe tbody tr th {\n",
       "        vertical-align: top;\n",
       "    }\n",
       "\n",
       "    .dataframe thead th {\n",
       "        text-align: right;\n",
       "    }\n",
       "</style>\n",
       "<table border=\"1\" class=\"dataframe\">\n",
       "  <thead>\n",
       "    <tr style=\"text-align: right;\">\n",
       "      <th></th>\n",
       "      <th>event</th>\n",
       "      <th>playId</th>\n",
       "    </tr>\n",
       "  </thead>\n",
       "  <tbody>\n",
       "    <tr>\n",
       "      <th>714</th>\n",
       "      <td>pass_outcome_caught</td>\n",
       "      <td>75</td>\n",
       "    </tr>\n",
       "    <tr>\n",
       "      <th>1484</th>\n",
       "      <td>pass_outcome_incomplete</td>\n",
       "      <td>146</td>\n",
       "    </tr>\n",
       "    <tr>\n",
       "      <th>2156</th>\n",
       "      <td>pass_outcome_incomplete</td>\n",
       "      <td>168</td>\n",
       "    </tr>\n",
       "    <tr>\n",
       "      <th>3038</th>\n",
       "      <td>pass_outcome_caught</td>\n",
       "      <td>190</td>\n",
       "    </tr>\n",
       "    <tr>\n",
       "      <th>3746</th>\n",
       "      <td>pass_outcome_incomplete</td>\n",
       "      <td>256</td>\n",
       "    </tr>\n",
       "  </tbody>\n",
       "</table>\n",
       "</div>"
      ],
      "text/plain": [
       "                        event  playId\n",
       "714       pass_outcome_caught      75\n",
       "1484  pass_outcome_incomplete     146\n",
       "2156  pass_outcome_incomplete     168\n",
       "3038      pass_outcome_caught     190\n",
       "3746  pass_outcome_incomplete     256"
      ]
     },
     "execution_count": 50,
     "metadata": {},
     "output_type": "execute_result"
    }
   ],
   "source": [
    "outcomes.head()"
   ]
  },
  {
   "cell_type": "markdown",
   "metadata": {},
   "source": [
    "### Run RF and NN"
   ]
  },
  {
   "cell_type": "code",
   "execution_count": 51,
   "metadata": {},
   "outputs": [],
   "source": [
    "X = passing_df.loc[:, passing_df.columns.difference(['event_y'])]#.sort_values(by=['gp'])\n",
    "y = passing_df.loc[:, 'event_y']"
   ]
  },
  {
   "cell_type": "code",
   "execution_count": 52,
   "metadata": {},
   "outputs": [],
   "source": [
    "le = LabelEncoder()\n",
    "y = le.fit_transform(y)"
   ]
  },
  {
   "cell_type": "code",
   "execution_count": 53,
   "metadata": {},
   "outputs": [],
   "source": [
    "X_train, X_test, y_train, y_test = train_test_split(X, y, test_size=0.2, random_state=71894)"
   ]
  },
  {
   "cell_type": "code",
   "execution_count": 54,
   "metadata": {},
   "outputs": [],
   "source": [
    "scaler = preprocessing.StandardScaler().fit(X_train)\n",
    "X_train_transformed = scaler.transform(X_train)\n",
    "X_test_transformed = scaler.transform(X_test)"
   ]
  },
  {
   "cell_type": "code",
   "execution_count": 270,
   "metadata": {},
   "outputs": [],
   "source": [
    "rf = RandomForestClassifier()"
   ]
  },
  {
   "cell_type": "code",
   "execution_count": 271,
   "metadata": {},
   "outputs": [
    {
     "data": {
      "text/plain": [
       "RandomForestClassifier()"
      ]
     },
     "execution_count": 271,
     "metadata": {},
     "output_type": "execute_result"
    }
   ],
   "source": [
    "rf.fit(X_train_transformed, y_train)"
   ]
  },
  {
   "cell_type": "code",
   "execution_count": 272,
   "metadata": {},
   "outputs": [],
   "source": [
    "y_pred = rf.predict(X_test_transformed)"
   ]
  },
  {
   "cell_type": "code",
   "execution_count": 273,
   "metadata": {},
   "outputs": [
    {
     "name": "stdout",
     "output_type": "stream",
     "text": [
      "              precision    recall  f1-score   support\n",
      "\n",
      "           0       0.93      0.93      0.93      1720\n",
      "           1       0.83      0.83      0.83       730\n",
      "\n",
      "    accuracy                           0.90      2450\n",
      "   macro avg       0.88      0.88      0.88      2450\n",
      "weighted avg       0.90      0.90      0.90      2450\n",
      "\n"
     ]
    }
   ],
   "source": [
    "print(classification_report(y_test,y_pred))"
   ]
  },
  {
   "cell_type": "code",
   "execution_count": 274,
   "metadata": {},
   "outputs": [
    {
     "data": {
      "text/plain": [
       "(1593, 127, 122, 608)"
      ]
     },
     "execution_count": 274,
     "metadata": {},
     "output_type": "execute_result"
    }
   ],
   "source": [
    "tn, fp, fn, tp = confusion_matrix(y_test, y_pred).ravel()\n",
    "(tn, fp, fn, tp)"
   ]
  },
  {
   "cell_type": "code",
   "execution_count": 56,
   "metadata": {},
   "outputs": [],
   "source": [
    "#ar = []\n",
    "#for i in passing_df['gp'].unique():\n",
    "#    if len(passing_df[passing_df['gp'] == i]) == 14:\n",
    "#        ar.append(i)"
   ]
  },
  {
   "cell_type": "code",
   "execution_count": 57,
   "metadata": {},
   "outputs": [],
   "source": [
    "#passing_df[passing_df['gp'].isin(ar)]"
   ]
  },
  {
   "cell_type": "code",
   "execution_count": 50,
   "metadata": {},
   "outputs": [],
   "source": [
    "passing_df['defense'] = np.where(passing_df['offense'] == 1, 0, 1)"
   ]
  },
  {
   "cell_type": "code",
   "execution_count": 51,
   "metadata": {},
   "outputs": [],
   "source": [
    "y = passing_df.astype({'event_y': 'category'})['event_y'].cat.codes"
   ]
  },
  {
   "cell_type": "code",
   "execution_count": 52,
   "metadata": {},
   "outputs": [],
   "source": [
    "X = passing_df.loc[:, passing_df.columns.difference(['event_y', 'gp'])]"
   ]
  },
  {
   "cell_type": "code",
   "execution_count": 53,
   "metadata": {},
   "outputs": [],
   "source": [
    "convert_dict = {'a': 'float32', 'defense':'float32', 'dir': 'float32', 'dis':'float32', 'distance_to_football':'float32',\n",
    "               'o':'float32', 'offense':'float32', 'rel_x':'float32', 'rel_y':'float32','s':'float32', 'x':'float32',\n",
    "               'x_football':'float32', 'x_qb_pass_forward':'float32', 'x_snap':'float32', 'y':'float32', \n",
    "               'y_football':'float32', 'y_qb_pass_forward':'float32', 'distance_to_football_targeted':'float32',\n",
    "               'targeted':'float32', 'target_s': 'float32', 'target_x': 'float32', 'target_y': 'float32',\n",
    "               'rel_x_target': 'float32', 'rel_y_target': 'float32', 'rel_s': 'float32'} \n",
    "  \n",
    "X = X.astype(convert_dict) "
   ]
  },
  {
   "cell_type": "code",
   "execution_count": 62,
   "metadata": {},
   "outputs": [],
   "source": [
    "#X.drop(['x', 'y', 'defense',], axis = 1, inplace =True)"
   ]
  },
  {
   "cell_type": "code",
   "execution_count": 54,
   "metadata": {},
   "outputs": [],
   "source": [
    "y = y.astype(int)"
   ]
  },
  {
   "cell_type": "code",
   "execution_count": 64,
   "metadata": {},
   "outputs": [],
   "source": [
    "#dataset = tf.data.Dataset.from_tensor_slices((X, y))"
   ]
  },
  {
   "cell_type": "code",
   "execution_count": 55,
   "metadata": {},
   "outputs": [],
   "source": [
    "X_train, X_test, y_train, y_test = train_test_split(X, y, test_size=0.2, random_state=71894)"
   ]
  },
  {
   "cell_type": "code",
   "execution_count": 56,
   "metadata": {},
   "outputs": [],
   "source": [
    "scaler = preprocessing.StandardScaler().fit(X_train)\n",
    "X_train_transformed = scaler.transform(X_train)\n",
    "X_test_transformed = scaler.transform(X_test)"
   ]
  },
  {
   "cell_type": "code",
   "execution_count": 143,
   "metadata": {},
   "outputs": [],
   "source": [
    "train_data = tf.data.Dataset.from_tensor_slices((X_train, y_train))\n",
    "valid_data = tf.data.Dataset.from_tensor_slices((X_test, y_test))\n",
    "num_classes = 2 #number of classes, here is 10 (0,1,...,9)\n",
    "\n",
    "#model.fit(train_data, epochs=10, validation_data=valid_data)"
   ]
  },
  {
   "cell_type": "code",
   "execution_count": 144,
   "metadata": {},
   "outputs": [],
   "source": [
    "num_classes = 2 #number of classes, here is 10 (0,1,...,9)\n",
    "train_y = keras.utils.to_categorical(y_train, num_classes)\n",
    "test_y = keras.utils.to_categorical(y_test, num_classes)"
   ]
  },
  {
   "cell_type": "code",
   "execution_count": null,
   "metadata": {},
   "outputs": [],
   "source": [
    "def model_builder(hp):\n",
    "    classifier = keras.Sequential()\n",
    "\n",
    "  # Tune the number of units in the first Dense layer\n",
    "  # Choose an optimal value between 32-512\n",
    "    hp_units = hp.Int('units', min_value = 32, max_value = 512, step = 32)\n",
    "    classifier.add(keras.layers.Dense(units = hp_units, activation = 'relu'))\n",
    "    classifier.add(tf.keras.layers.Dense(units = hp_units, activation = 'relu'))\n",
    "    classifier.add(tf.keras.layers.Dense(units = hp_units, activation = 'relu'))\n",
    "    tf.keras.layers.MaxPooling1D(pool_size=2,strides=1, padding='valid')\n",
    "    classifier.add(tf.keras.layers.Flatten())\n",
    "    tf.keras.layers.MaxPooling1D(pool_size=4,strides=1, padding='valid')\n",
    "    classifier.add(tf.keras.layers.Dense(units = hp_units, activation = 'relu'))\n",
    "    tf.keras.layers.BatchNormalization(axis=-1, momentum=0.99, epsilon=0.001, center=True, scale=True,)\n",
    "    classifier.add(tf.keras.layers.Dense(units = hp_units, activation = 'relu'))\n",
    "    tf.keras.layers.MaxPooling1D(pool_size=8,strides=2, padding='valid')\n",
    "    classifier.add(tf.keras.layers.Dense(units = 4, activation = 'softmax'))\n",
    "    \n",
    "  # Tune the learning rate for the optimizer \n",
    "  # Choose an optimal value from 0.01, 0.001, or 0.0001\n",
    "    hp_learning_rate = hp.Choice('learning_rate', values = [1e-2, 1e-3, 1e-4]) \n",
    "\n",
    "    classifier.compile(optimizer = 'adam', loss = 'categorical_crossentropy', metrics = ['accuracy'])\n",
    "\n",
    "\n",
    "    return classifier"
   ]
  },
  {
   "cell_type": "code",
   "execution_count": null,
   "metadata": {},
   "outputs": [],
   "source": [
    "tuner = kt.Hyperband(model_builder,\n",
    "                     objective = 'val_accuracy', \n",
    "                     max_epochs = 10,\n",
    "                     factor = 3)  "
   ]
  },
  {
   "cell_type": "code",
   "execution_count": null,
   "metadata": {},
   "outputs": [],
   "source": [
    "tuner.search(X_train, train_y, epochs = 10, validation_data = (X_test, test_y))\n",
    "\n",
    "# Get the optimal hyperparameters\n",
    "best_hps = tuner.get_best_hyperparameters(num_trials = 1)[0]"
   ]
  },
  {
   "cell_type": "code",
   "execution_count": 158,
   "metadata": {},
   "outputs": [
    {
     "data": {
      "text/plain": [
       "0.9061224489795918"
      ]
     },
     "execution_count": 158,
     "metadata": {},
     "output_type": "execute_result"
    }
   ],
   "source": [
    "metrics = [\n",
    "      keras.metrics.TruePositives(name='tp'),\n",
    "      keras.metrics.FalsePositives(name='fp'),\n",
    "      keras.metrics.TrueNegatives(name='tn'),\n",
    "      keras.metrics.FalseNegatives(name='fn'), \n",
    "      keras.metrics.BinaryAccuracy(name='accuracy'),\n",
    "      keras.metrics.Precision(name='precision'),\n",
    "      keras.metrics.Recall(name='recall'),\n",
    "      keras.metrics.AUC(name='auc'),\n",
    "]\n",
    "\n",
    "classifier = tf.keras.Sequential()\n",
    "classifier.add(tf.keras.layers.Dense(units = 250, activation = 'relu'))\n",
    "classifier.add(tf.keras.layers.Dense(units = 250, activation = 'relu'))\n",
    "classifier.add(tf.keras.layers.Dense(units = 250, activation = 'relu'))\n",
    "tf.keras.layers.MaxPooling1D(pool_size=2,strides=1, padding='valid')\n",
    "classifier.add(tf.keras.layers.Dense(units = 320, activation = 'relu'))\n",
    "classifier.add(tf.keras.layers.Dense(units = 320, activation = 'relu'))\n",
    "tf.keras.layers.BatchNormalization(axis=-1, momentum=0.99, epsilon=0.001, center=True, scale=True,)\n",
    "classifier.add(tf.keras.layers.Dense(units = 320, activation = 'relu'))\n",
    "classifier.add(tf.keras.layers.Dense(units = 120, activation = 'relu'))\n",
    "classifier.add(tf.keras.layers.Dense(units = 30, activation = 'relu'))\n",
    "tf.keras.layers.MaxPooling1D(pool_size=5,strides=3, padding='valid')\n",
    "classifier.add(tf.keras.layers.Dense(units = 2, activation = 'sigmoid'))\n",
    "classifier.compile(optimizer = 'nadam', loss = 'binary_crossentropy', metrics = [metrics])\n",
    "\n",
    "classifier.fit(x=X_train_transformed, y=train_y, epochs=20, batch_size=64, verbose=0)\n",
    "y_pred = tf.argmax(input = classifier.predict(X_test_transformed), axis = 1)\n",
    "accuracy_score(y_test, y_pred)"
   ]
  },
  {
   "cell_type": "code",
   "execution_count": 159,
   "metadata": {},
   "outputs": [
    {
     "data": {
      "text/plain": [
       "<tf.Tensor: shape=(2450,), dtype=int64, numpy=array([0, 0, 0, ..., 0, 1, 0])>"
      ]
     },
     "execution_count": 159,
     "metadata": {},
     "output_type": "execute_result"
    }
   ],
   "source": [
    "tf.argmax(input = classifier.predict(X_test), axis = 1)"
   ]
  },
  {
   "cell_type": "code",
   "execution_count": 160,
   "metadata": {},
   "outputs": [
    {
     "data": {
      "text/plain": [
       "array([1, 0, 0, ..., 1, 0, 0])"
      ]
     },
     "execution_count": 160,
     "metadata": {},
     "output_type": "execute_result"
    }
   ],
   "source": [
    "y_pred.numpy()"
   ]
  },
  {
   "cell_type": "code",
   "execution_count": 161,
   "metadata": {},
   "outputs": [],
   "source": [
    "gp = []\n",
    "for indexes in y_test.index:\n",
    "    gp.append(passing_df.loc[indexes, 'gp'])"
   ]
  },
  {
   "cell_type": "code",
   "execution_count": 162,
   "metadata": {},
   "outputs": [
    {
     "data": {
      "text/plain": [
       "array([1, 0, 0, ..., 1, 0, 0])"
      ]
     },
     "execution_count": 162,
     "metadata": {},
     "output_type": "execute_result"
    }
   ],
   "source": [
    "y_test.values"
   ]
  },
  {
   "cell_type": "code",
   "execution_count": 163,
   "metadata": {},
   "outputs": [],
   "source": [
    "dic = {'gp':gp, 'class':y_test}\n",
    "# Convert dictionary to Pandas dataframe\n",
    "y_test_df = pd.DataFrame(dic)"
   ]
  },
  {
   "cell_type": "code",
   "execution_count": 164,
   "metadata": {},
   "outputs": [],
   "source": [
    "y_test_df = y_test_df.groupby(by = 'gp').agg(lambda x:x.value_counts().index[0])"
   ]
  },
  {
   "cell_type": "code",
   "execution_count": 165,
   "metadata": {},
   "outputs": [],
   "source": [
    "dic = {'gp':gp, 'class':y_pred.numpy()}\n",
    "# Convert dictionary to Pandas dataframe\n",
    "y_pred_df = pd.DataFrame(dic)"
   ]
  },
  {
   "cell_type": "code",
   "execution_count": 166,
   "metadata": {},
   "outputs": [],
   "source": [
    "y_pred_df = y_pred_df.groupby(by = 'gp').agg(lambda x:x.value_counts().index[0])"
   ]
  },
  {
   "cell_type": "code",
   "execution_count": 167,
   "metadata": {},
   "outputs": [
    {
     "data": {
      "text/plain": [
       "0.9413333333333334"
      ]
     },
     "execution_count": 167,
     "metadata": {},
     "output_type": "execute_result"
    }
   ],
   "source": [
    "accuracy_score(y_test_df, y_pred_df)"
   ]
  },
  {
   "cell_type": "code",
   "execution_count": 81,
   "metadata": {},
   "outputs": [],
   "source": [
    "###It's good!"
   ]
  },
  {
   "cell_type": "code",
   "execution_count": 168,
   "metadata": {},
   "outputs": [
    {
     "name": "stdout",
     "output_type": "stream",
     "text": [
      "              precision    recall  f1-score   support\n",
      "\n",
      "  incomplete       0.95      0.97      0.96       531\n",
      "    complete       0.92      0.87      0.90       219\n",
      "\n",
      "    accuracy                           0.94       750\n",
      "   macro avg       0.94      0.92      0.93       750\n",
      "weighted avg       0.94      0.94      0.94       750\n",
      "\n"
     ]
    }
   ],
   "source": [
    "target_names = ['incomplete','complete'] # target values\n",
    "\n",
    "# Print classification report after a train/test split:\n",
    "print(classification_report(y_test_df, y_pred_df, target_names=target_names))"
   ]
  },
  {
   "cell_type": "code",
   "execution_count": 169,
   "metadata": {},
   "outputs": [
    {
     "data": {
      "text/plain": [
       "(515, 16, 28, 191)"
      ]
     },
     "execution_count": 169,
     "metadata": {},
     "output_type": "execute_result"
    }
   ],
   "source": [
    "tn, fp, fn, tp = confusion_matrix(y_test_df, y_pred_df).ravel()\n",
    "(tn, fp, fn, tp)"
   ]
  },
  {
   "cell_type": "code",
   "execution_count": 170,
   "metadata": {},
   "outputs": [
    {
     "data": {
      "text/plain": [
       "array([[515,  16],\n",
       "       [ 28, 191]])"
      ]
     },
     "execution_count": 170,
     "metadata": {},
     "output_type": "execute_result"
    }
   ],
   "source": [
    "confusion_matrix(y_test_df, y_pred_df)"
   ]
  },
  {
   "cell_type": "markdown",
   "metadata": {},
   "source": [
    "## Convolutional"
   ]
  },
  {
   "cell_type": "code",
   "execution_count": 57,
   "metadata": {},
   "outputs": [],
   "source": [
    "###Identify the number of players for each play\n",
    "gp_counts = pd.DataFrame(passing_df.groupby('gp').count().iloc[:,0:2])"
   ]
  },
  {
   "cell_type": "code",
   "execution_count": 58,
   "metadata": {},
   "outputs": [
    {
     "data": {
      "text/html": [
       "<div>\n",
       "<style scoped>\n",
       "    .dataframe tbody tr th:only-of-type {\n",
       "        vertical-align: middle;\n",
       "    }\n",
       "\n",
       "    .dataframe tbody tr th {\n",
       "        vertical-align: top;\n",
       "    }\n",
       "\n",
       "    .dataframe thead th {\n",
       "        text-align: right;\n",
       "    }\n",
       "</style>\n",
       "<table border=\"1\" class=\"dataframe\">\n",
       "  <thead>\n",
       "    <tr style=\"text-align: right;\">\n",
       "      <th></th>\n",
       "      <th>x</th>\n",
       "      <th>y</th>\n",
       "    </tr>\n",
       "    <tr>\n",
       "      <th>gp</th>\n",
       "      <th></th>\n",
       "      <th></th>\n",
       "    </tr>\n",
       "  </thead>\n",
       "  <tbody>\n",
       "    <tr>\n",
       "      <th>2018090600_1037</th>\n",
       "      <td>14</td>\n",
       "      <td>14</td>\n",
       "    </tr>\n",
       "    <tr>\n",
       "      <th>2018090600_1061</th>\n",
       "      <td>14</td>\n",
       "      <td>14</td>\n",
       "    </tr>\n",
       "    <tr>\n",
       "      <th>2018090600_1085</th>\n",
       "      <td>30</td>\n",
       "      <td>30</td>\n",
       "    </tr>\n",
       "    <tr>\n",
       "      <th>2018090600_1202</th>\n",
       "      <td>15</td>\n",
       "      <td>15</td>\n",
       "    </tr>\n",
       "    <tr>\n",
       "      <th>2018090600_1226</th>\n",
       "      <td>15</td>\n",
       "      <td>15</td>\n",
       "    </tr>\n",
       "  </tbody>\n",
       "</table>\n",
       "</div>"
      ],
      "text/plain": [
       "                  x   y\n",
       "gp                     \n",
       "2018090600_1037  14  14\n",
       "2018090600_1061  14  14\n",
       "2018090600_1085  30  30\n",
       "2018090600_1202  15  15\n",
       "2018090600_1226  15  15"
      ]
     },
     "execution_count": 58,
     "metadata": {},
     "output_type": "execute_result"
    }
   ],
   "source": [
    "gp_counts.head()"
   ]
  },
  {
   "cell_type": "code",
   "execution_count": 59,
   "metadata": {},
   "outputs": [
    {
     "data": {
      "text/html": [
       "<div>\n",
       "<style scoped>\n",
       "    .dataframe tbody tr th:only-of-type {\n",
       "        vertical-align: middle;\n",
       "    }\n",
       "\n",
       "    .dataframe tbody tr th {\n",
       "        vertical-align: top;\n",
       "    }\n",
       "\n",
       "    .dataframe thead th {\n",
       "        text-align: right;\n",
       "    }\n",
       "</style>\n",
       "<table border=\"1\" class=\"dataframe\">\n",
       "  <thead>\n",
       "    <tr style=\"text-align: right;\">\n",
       "      <th></th>\n",
       "      <th>y</th>\n",
       "    </tr>\n",
       "    <tr>\n",
       "      <th>x</th>\n",
       "      <th></th>\n",
       "    </tr>\n",
       "  </thead>\n",
       "  <tbody>\n",
       "    <tr>\n",
       "      <th>12</th>\n",
       "      <td>1</td>\n",
       "    </tr>\n",
       "    <tr>\n",
       "      <th>13</th>\n",
       "      <td>1</td>\n",
       "    </tr>\n",
       "    <tr>\n",
       "      <th>14</th>\n",
       "      <td>378</td>\n",
       "    </tr>\n",
       "    <tr>\n",
       "      <th>15</th>\n",
       "      <td>196</td>\n",
       "    </tr>\n",
       "    <tr>\n",
       "      <th>16</th>\n",
       "      <td>113</td>\n",
       "    </tr>\n",
       "    <tr>\n",
       "      <th>17</th>\n",
       "      <td>25</td>\n",
       "    </tr>\n",
       "    <tr>\n",
       "      <th>18</th>\n",
       "      <td>1</td>\n",
       "    </tr>\n",
       "    <tr>\n",
       "      <th>24</th>\n",
       "      <td>1</td>\n",
       "    </tr>\n",
       "    <tr>\n",
       "      <th>26</th>\n",
       "      <td>2</td>\n",
       "    </tr>\n",
       "    <tr>\n",
       "      <th>28</th>\n",
       "      <td>24</td>\n",
       "    </tr>\n",
       "    <tr>\n",
       "      <th>30</th>\n",
       "      <td>16</td>\n",
       "    </tr>\n",
       "    <tr>\n",
       "      <th>32</th>\n",
       "      <td>9</td>\n",
       "    </tr>\n",
       "    <tr>\n",
       "      <th>34</th>\n",
       "      <td>3</td>\n",
       "    </tr>\n",
       "    <tr>\n",
       "      <th>36</th>\n",
       "      <td>1</td>\n",
       "    </tr>\n",
       "    <tr>\n",
       "      <th>88</th>\n",
       "      <td>1</td>\n",
       "    </tr>\n",
       "  </tbody>\n",
       "</table>\n",
       "</div>"
      ],
      "text/plain": [
       "      y\n",
       "x      \n",
       "12    1\n",
       "13    1\n",
       "14  378\n",
       "15  196\n",
       "16  113\n",
       "17   25\n",
       "18    1\n",
       "24    1\n",
       "26    2\n",
       "28   24\n",
       "30   16\n",
       "32    9\n",
       "34    3\n",
       "36    1\n",
       "88    1"
      ]
     },
     "execution_count": 59,
     "metadata": {},
     "output_type": "execute_result"
    }
   ],
   "source": [
    "gp_counts.groupby(by = 'x').count()"
   ]
  },
  {
   "cell_type": "code",
   "execution_count": 60,
   "metadata": {},
   "outputs": [],
   "source": [
    "#Let's only look at plays with 13 through 16 \n",
    "gp_counts_red = gp_counts[(gp_counts['x'] >=13) & (gp_counts['x']<=17)]"
   ]
  },
  {
   "cell_type": "code",
   "execution_count": 61,
   "metadata": {},
   "outputs": [],
   "source": [
    "passing_df_conv = passing_df[(passing_df['gp'].isin(gp_counts_red.index))]"
   ]
  },
  {
   "cell_type": "code",
   "execution_count": 98,
   "metadata": {},
   "outputs": [],
   "source": [
    "#Let's create tables for each of our categories (13 players in field, 14, etc etc)\n",
    "df_13 = passing_df[(passing_df['gp'].isin(gp_counts[(gp_counts['x'] ==13)].index))]\n",
    "df_14 = passing_df[(passing_df['gp'].isin(gp_counts[(gp_counts['x'] ==14)].index))].sort_values(by = 'gp')\n",
    "df_15 = passing_df[(passing_df['gp'].isin(gp_counts[(gp_counts['x'] ==15)].index))]\n",
    "df_16 = passing_df[(passing_df['gp'].isin(gp_counts[(gp_counts['x'] ==16)].index))]\n",
    "#df_13_y = passing_df[passing_df['gp'].isin(gp_counts[(gp_counts['x'] ==13)].index)]\n",
    "#df_14_y = df_14.groupby(by = 'gp').agg(lambda x:x.value_counts().index[0])[['event_y']]\n",
    "df_14_y = df_14[['event_y', 'gp']].sort_values(by='gp')\n",
    "df_14.drop('event_y', axis = 1,inplace = True)"
   ]
  },
  {
   "cell_type": "code",
   "execution_count": 99,
   "metadata": {},
   "outputs": [],
   "source": [
    "convert_dict = {'a': 'float32', 'defense':'float32', 'dir': 'float32', 'dis':'float32', 'distance_to_football':'float32',\n",
    "               'o':'float32', 'offense':'float32', 'rel_x':'float32', 'rel_y':'float32','s':'float32', 'x':'float32',\n",
    "               'x_football':'float32', 'x_qb_pass_forward':'float32', 'x_snap':'float32', 'y':'float32', \n",
    "               'y_football':'float32', 'y_qb_pass_forward':'float32', 'distance_to_football_targeted':'float32',\n",
    "               'targeted':'float32', 'target_s': 'float32', 'target_x': 'float32', 'target_y': 'float32',\n",
    "               'rel_x_target': 'float32', 'rel_y_target': 'float32', 'rel_s': 'float32'} \n",
    "  \n",
    "df_14 = df_14.astype(convert_dict) "
   ]
  },
  {
   "cell_type": "code",
   "execution_count": 100,
   "metadata": {},
   "outputs": [],
   "source": [
    "gp_x = df_14[['gp']]"
   ]
  },
  {
   "cell_type": "code",
   "execution_count": 101,
   "metadata": {},
   "outputs": [],
   "source": [
    "df_14_scaled_np = preprocessing.StandardScaler().fit_transform(df_14.values)\n",
    "df_14_scaled = pd.DataFrame(df_14_scaled_np, index=df_14.index, columns=df_14.columns)"
   ]
  },
  {
   "cell_type": "code",
   "execution_count": 102,
   "metadata": {},
   "outputs": [],
   "source": [
    "df_14_scaled['gp'] = gp_x"
   ]
  },
  {
   "cell_type": "code",
   "execution_count": 103,
   "metadata": {},
   "outputs": [
    {
     "data": {
      "text/plain": [
       "(5292, 26)"
      ]
     },
     "execution_count": 103,
     "metadata": {},
     "output_type": "execute_result"
    }
   ],
   "source": [
    "df_14_scaled.shape"
   ]
  },
  {
   "cell_type": "code",
   "execution_count": 104,
   "metadata": {},
   "outputs": [
    {
     "data": {
      "text/plain": [
       "(5292, 2)"
      ]
     },
     "execution_count": 104,
     "metadata": {},
     "output_type": "execute_result"
    }
   ],
   "source": [
    "df_14_y.shape"
   ]
  },
  {
   "cell_type": "code",
   "execution_count": 105,
   "metadata": {},
   "outputs": [],
   "source": [
    "df_14_y = df_14_y.groupby(by='gp').max()"
   ]
  },
  {
   "cell_type": "code",
   "execution_count": 106,
   "metadata": {},
   "outputs": [
    {
     "data": {
      "text/plain": [
       "(378, 1)"
      ]
     },
     "execution_count": 106,
     "metadata": {},
     "output_type": "execute_result"
    }
   ],
   "source": [
    "df_14_y.shape"
   ]
  },
  {
   "cell_type": "code",
   "execution_count": 107,
   "metadata": {},
   "outputs": [],
   "source": [
    "df_14_3d = np.reshape(df_14_scaled.values, (378, 26, 14, 1))#, 14))"
   ]
  },
  {
   "cell_type": "code",
   "execution_count": 108,
   "metadata": {},
   "outputs": [],
   "source": [
    "df_14_y = df_14_y.astype({'event_y': 'category'})['event_y'].cat.codes"
   ]
  },
  {
   "cell_type": "code",
   "execution_count": 109,
   "metadata": {},
   "outputs": [],
   "source": [
    "df_14_y = df_14_y.astype(int)"
   ]
  },
  {
   "cell_type": "code",
   "execution_count": 110,
   "metadata": {},
   "outputs": [],
   "source": [
    "X_train, X_test, y_train, y_test = train_test_split(df_14_3d, df_14_y, test_size=0.05, random_state=71894)"
   ]
  },
  {
   "cell_type": "code",
   "execution_count": 111,
   "metadata": {},
   "outputs": [],
   "source": [
    "X_train = tf.convert_to_tensor(X_train, dtype=tf.float32)\n",
    "X_test = tf.convert_to_tensor(X_test, dtype = tf.float32)"
   ]
  },
  {
   "cell_type": "code",
   "execution_count": 112,
   "metadata": {},
   "outputs": [
    {
     "data": {
      "text/plain": [
       "TensorShape([19, 26, 14, 1])"
      ]
     },
     "execution_count": 112,
     "metadata": {},
     "output_type": "execute_result"
    }
   ],
   "source": [
    "X_test.shape"
   ]
  },
  {
   "cell_type": "code",
   "execution_count": 113,
   "metadata": {},
   "outputs": [
    {
     "data": {
      "text/plain": [
       "TensorShape([359, 26, 14, 1])"
      ]
     },
     "execution_count": 113,
     "metadata": {},
     "output_type": "execute_result"
    }
   ],
   "source": [
    "X_train.shape"
   ]
  },
  {
   "cell_type": "code",
   "execution_count": 114,
   "metadata": {},
   "outputs": [
    {
     "data": {
      "text/plain": [
       "(359,)"
      ]
     },
     "execution_count": 114,
     "metadata": {},
     "output_type": "execute_result"
    }
   ],
   "source": [
    "y_train.shape"
   ]
  },
  {
   "cell_type": "code",
   "execution_count": 115,
   "metadata": {},
   "outputs": [
    {
     "data": {
      "text/plain": [
       "(19,)"
      ]
     },
     "execution_count": 115,
     "metadata": {},
     "output_type": "execute_result"
    }
   ],
   "source": [
    "y_test.shape"
   ]
  },
  {
   "cell_type": "code",
   "execution_count": 116,
   "metadata": {},
   "outputs": [],
   "source": [
    "y_train_cat = tf.keras.utils.to_categorical(y_train, num_classes=2)\n",
    "y_test_cat = tf.keras.utils.to_categorical(y_test, num_classes=2)"
   ]
  },
  {
   "cell_type": "code",
   "execution_count": null,
   "metadata": {},
   "outputs": [],
   "source": []
  },
  {
   "cell_type": "code",
   "execution_count": 134,
   "metadata": {},
   "outputs": [
    {
     "name": "stdout",
     "output_type": "stream",
     "text": [
      "Model: \"sequential_21\"\n",
      "_________________________________________________________________\n",
      "Layer (type)                 Output Shape              Param #   \n",
      "=================================================================\n",
      "conv2d_37 (Conv2D)           (None, 25, 13, 32)        160       \n",
      "_________________________________________________________________\n",
      "max_pooling2d_2 (MaxPooling2 (None, 12, 6, 32)         0         \n",
      "_________________________________________________________________\n",
      "conv2d_38 (Conv2D)           (None, 11, 5, 128)        16512     \n",
      "_________________________________________________________________\n",
      "conv2d_39 (Conv2D)           (None, 10, 4, 128)        65664     \n",
      "_________________________________________________________________\n",
      "dense_32 (Dense)             (None, 10, 4, 128)        16512     \n",
      "_________________________________________________________________\n",
      "max_pooling2d_3 (MaxPooling2 (None, 5, 2, 128)         0         \n",
      "_________________________________________________________________\n",
      "flatten_8 (Flatten)          (None, 1280)              0         \n",
      "_________________________________________________________________\n",
      "dense_33 (Dense)             (None, 128)               163968    \n",
      "_________________________________________________________________\n",
      "dense_34 (Dense)             (None, 128)               16512     \n",
      "_________________________________________________________________\n",
      "dense_35 (Dense)             (None, 2)                 258       \n",
      "=================================================================\n",
      "Total params: 279,586\n",
      "Trainable params: 279,586\n",
      "Non-trainable params: 0\n",
      "_________________________________________________________________\n"
     ]
    }
   ],
   "source": [
    "metrics = [\n",
    "      keras.metrics.TruePositives(name='tp'),\n",
    "      keras.metrics.FalsePositives(name='fp'),\n",
    "      keras.metrics.TrueNegatives(name='tn'),\n",
    "      keras.metrics.FalseNegatives(name='fn'), \n",
    "      keras.metrics.BinaryAccuracy(name='accuracy'),\n",
    "      keras.metrics.Precision(name='precision'),\n",
    "      keras.metrics.Recall(name='recall'),\n",
    "      keras.metrics.AUC(name='auc'),\n",
    "]\n",
    "\n",
    "cnn = tf.keras.Sequential()\n",
    "cnn.add(tf.keras.layers.Conv2D(filters = 32, kernel_size = (2, 2), input_shape = (26, 14, 1), activation = 'relu'))\n",
    "cnn.add(tf.keras.layers.MaxPooling2D(pool_size =(2,2)))\n",
    "cnn.add(tf.keras.layers.Conv2D(filters = 128, kernel_size = (2,2), activation = 'relu'))\n",
    "cnn.add(tf.keras.layers.Conv2D(filters = 128, kernel_size = (2,2), activation = 'relu'))\n",
    "cnn.add(tf.keras.layers.Dense(units = 128, activation = 'relu'))\n",
    "cnn.add(tf.keras.layers.MaxPooling2D(pool_size = (2,2)))\n",
    "cnn.add(tf.keras.layers.Flatten())\n",
    "cnn.add(tf.keras.layers.Dense(units = 128, activation = 'relu'))\n",
    "cnn.add(tf.keras.layers.Dense(units = 128, activation = 'relu'))\n",
    "cnn.add(tf.keras.layers.Dense(units = 2, activation = 'softmax'))\n",
    "cnn.compile(optimizer = 'adam', loss = 'categorical_crossentropy', metrics = [metrics])\n",
    "cnn.summary()"
   ]
  },
  {
   "cell_type": "code",
   "execution_count": 135,
   "metadata": {},
   "outputs": [
    {
     "data": {
      "text/plain": [
       "<tf.Tensor: shape=(359, 26, 14, 1), dtype=float32, numpy=\n",
       "array([[[[-7.3240095e-01],\n",
       "         [ 3.8358229e-01],\n",
       "         [-4.8024186e-01],\n",
       "         ...,\n",
       "         [-8.1955725e-01],\n",
       "         [ 2.0285447e+00],\n",
       "         [-8.6569136e-01]],\n",
       "\n",
       "        [[ 4.3002558e-01],\n",
       "         [ 6.8746978e-01],\n",
       "         [-3.5397208e-01],\n",
       "         ...,\n",
       "         [ 8.6569136e-01],\n",
       "         [-7.2176260e-01],\n",
       "         [ 1.0566745e+00]],\n",
       "\n",
       "        [[-4.1746581e-01],\n",
       "         [ 5.7901156e-01],\n",
       "         [-3.3245209e-01],\n",
       "         ...,\n",
       "         [-8.6569136e-01],\n",
       "         [ 3.9984018e-01],\n",
       "         [ 1.3531133e+00]],\n",
       "\n",
       "        ...,\n",
       "\n",
       "        [[-3.7214819e-02],\n",
       "         [-8.1955725e-01],\n",
       "         [ 2.8918560e+00],\n",
       "         ...,\n",
       "         [-1.8570706e+00],\n",
       "         [ 2.3163295e+00],\n",
       "         [-3.5688312e+00]],\n",
       "\n",
       "        [[-1.3596338e+00],\n",
       "         [ 8.6569136e-01],\n",
       "         [-7.6677120e-01],\n",
       "         ...,\n",
       "         [-1.6856860e+00],\n",
       "         [-3.7214819e-02],\n",
       "         [-8.1955725e-01]],\n",
       "\n",
       "        [[ 1.4607044e+00],\n",
       "         [-8.6569136e-01],\n",
       "         [ 5.2754760e-01],\n",
       "         ...,\n",
       "         [-2.0628946e+00],\n",
       "         [-1.3201977e+00],\n",
       "         [ 8.6569136e-01]]],\n",
       "\n",
       "\n",
       "       [[[-1.5282357e+00],\n",
       "         [-1.7659111e+00],\n",
       "         [-1.0726905e+00],\n",
       "         ...,\n",
       "         [ 5.6496370e-01],\n",
       "         [ 7.5957257e-01],\n",
       "         [-8.6569136e-01]],\n",
       "\n",
       "        [[ 7.5927861e-02],\n",
       "         [-1.9587806e+00],\n",
       "         [-1.2797341e+00],\n",
       "         ...,\n",
       "         [ 8.6569136e-01],\n",
       "         [-1.0098178e+00],\n",
       "         [ 2.9004645e-01]],\n",
       "\n",
       "        [[ 1.6855305e+00],\n",
       "         [ 6.6858263e+00],\n",
       "         [ 1.1553751e+00],\n",
       "         ...,\n",
       "         [-8.6569136e-01],\n",
       "         [-1.3950288e+00],\n",
       "         [ 7.4424796e-02]],\n",
       "\n",
       "        ...,\n",
       "\n",
       "        [[-9.3983310e-01],\n",
       "         [ 5.6496370e-01],\n",
       "         [-4.0257236e-01],\n",
       "         ...,\n",
       "         [ 3.6457118e-01],\n",
       "         [ 1.7096689e+00],\n",
       "         [-3.5796210e-01]],\n",
       "\n",
       "        [[-9.7543079e-01],\n",
       "         [-1.1551461e+00],\n",
       "         [-1.4513118e+00],\n",
       "         ...,\n",
       "         [ 4.7941756e-01],\n",
       "         [-9.3983310e-01],\n",
       "         [ 5.6496370e-01]],\n",
       "\n",
       "        [[ 9.4992977e-01],\n",
       "         [ 1.1551461e+00],\n",
       "         [-1.4233565e-01],\n",
       "         ...,\n",
       "         [-4.3269408e-01],\n",
       "         [ 1.5568441e+00],\n",
       "         [-1.1551461e+00]]],\n",
       "\n",
       "\n",
       "       [[[-5.3477216e-01],\n",
       "         [ 1.6976712e+00],\n",
       "         [-1.4336525e+00],\n",
       "         ...,\n",
       "         [-4.5774862e-01],\n",
       "         [ 6.4194208e-01],\n",
       "         [ 1.1551461e+00]],\n",
       "\n",
       "        [[-1.6787705e-01],\n",
       "         [ 1.8509855e+00],\n",
       "         [-8.3318508e-01],\n",
       "         ...,\n",
       "         [-1.1551461e+00],\n",
       "         [-4.3002471e-01],\n",
       "         [-1.7961727e+00]],\n",
       "\n",
       "        [[-1.0216850e+00],\n",
       "         [ 1.6034107e-01],\n",
       "         [-9.4284266e-01],\n",
       "         ...,\n",
       "         [-8.6569136e-01],\n",
       "         [ 1.2933277e-01],\n",
       "         [-1.6041940e+00]],\n",
       "\n",
       "        ...,\n",
       "\n",
       "        [[-9.6069366e-01],\n",
       "         [-4.5774862e-01],\n",
       "         [-9.9394417e-01],\n",
       "         ...,\n",
       "         [-3.1906673e-01],\n",
       "         [-1.5459714e+00],\n",
       "         [ 2.2425233e-01]],\n",
       "\n",
       "        [[ 6.1157298e-01],\n",
       "         [ 8.6569136e-01],\n",
       "         [-6.4361125e-01],\n",
       "         ...,\n",
       "         [-4.3540552e-01],\n",
       "         [-9.6069366e-01],\n",
       "         [-4.5774862e-01]],\n",
       "\n",
       "        [[-9.9092507e-01],\n",
       "         [ 1.1551461e+00],\n",
       "         [-4.7669679e-01],\n",
       "         ...,\n",
       "         [ 6.8480998e-01],\n",
       "         [-1.5324807e-01],\n",
       "         [-1.1551461e+00]]],\n",
       "\n",
       "\n",
       "       ...,\n",
       "\n",
       "\n",
       "       [[[-6.5097630e-01],\n",
       "         [-2.8950995e-01],\n",
       "         [-1.1629310e+00],\n",
       "         ...,\n",
       "         [-6.0006005e-01],\n",
       "         [ 1.0425378e+00],\n",
       "         [-8.6569136e-01]],\n",
       "\n",
       "        [[-1.4507557e+00],\n",
       "         [-6.0699023e-02],\n",
       "         [-3.7718049e-01],\n",
       "         ...,\n",
       "         [ 8.6569136e-01],\n",
       "         [ 4.9931094e-02],\n",
       "         [-1.3550863e+00]],\n",
       "\n",
       "        [[ 4.0646940e-01],\n",
       "         [ 7.4262989e-01],\n",
       "         [ 3.5423726e-01],\n",
       "         ...,\n",
       "         [-8.6569136e-01],\n",
       "         [ 5.3799641e-01],\n",
       "         [-1.1144835e+00]],\n",
       "\n",
       "        ...,\n",
       "\n",
       "        [[-6.3133830e-01],\n",
       "         [-6.0006005e-01],\n",
       "         [-3.4517460e-02],\n",
       "         ...,\n",
       "         [ 1.5821878e+00],\n",
       "         [-9.5836806e-01],\n",
       "         [ 4.7017273e-01]],\n",
       "\n",
       "        [[ 1.1636783e+00],\n",
       "         [ 8.6569136e-01],\n",
       "         [ 5.7408698e-03],\n",
       "         ...,\n",
       "         [ 1.3508049e+00],\n",
       "         [-6.3133830e-01],\n",
       "         [-6.0006005e-01]],\n",
       "\n",
       "        [[ 1.6976930e+00],\n",
       "         [ 1.1551461e+00],\n",
       "         [ 4.1261098e-01],\n",
       "         ...,\n",
       "         [ 3.2766056e-01],\n",
       "         [ 2.2583282e+00],\n",
       "         [-1.1551461e+00]]],\n",
       "\n",
       "\n",
       "       [[[-1.3997564e+00],\n",
       "         [ 3.2305902e-01],\n",
       "         [-1.3434120e+00],\n",
       "         ...,\n",
       "         [ 8.2787800e-01],\n",
       "         [-4.6751389e-01],\n",
       "         [ 1.1551461e+00]],\n",
       "\n",
       "        [[-1.4855850e+00],\n",
       "         [ 8.2231909e-03],\n",
       "         [-1.7679727e+00],\n",
       "         ...,\n",
       "         [-1.1551461e+00],\n",
       "         [-1.9447702e+00],\n",
       "         [ 9.2737478e-01]],\n",
       "\n",
       "        [[ 5.5556232e-01],\n",
       "         [ 5.7901156e-01],\n",
       "         [ 5.4498440e-01],\n",
       "         ...,\n",
       "         [ 1.1551461e+00],\n",
       "         [ 6.0835157e-02],\n",
       "         [ 6.0585135e-01]],\n",
       "\n",
       "        ...,\n",
       "\n",
       "        [[-1.3534329e+00],\n",
       "         [ 8.2787800e-01],\n",
       "         [-4.7833464e-01],\n",
       "         ...,\n",
       "         [ 7.6414686e-01],\n",
       "         [ 3.5976917e-01],\n",
       "         [-9.6972173e-01]],\n",
       "\n",
       "        [[ 3.8093165e-01],\n",
       "         [ 8.6569136e-01],\n",
       "         [-2.0270133e+00],\n",
       "         ...,\n",
       "         [ 7.2466218e-01],\n",
       "         [-1.3534329e+00],\n",
       "         [ 8.2787800e-01]],\n",
       "\n",
       "        [[-1.4167750e+00],\n",
       "         [-8.6569136e-01],\n",
       "         [ 2.9419136e-01],\n",
       "         ...,\n",
       "         [ 3.8327506e-01],\n",
       "         [ 6.2455375e-02],\n",
       "         [ 8.6569136e-01]]],\n",
       "\n",
       "\n",
       "       [[[-1.7483689e+00],\n",
       "         [ 2.3869322e-01],\n",
       "         [-1.3497375e-01],\n",
       "         ...,\n",
       "         [ 9.8948586e-01],\n",
       "         [-1.4396933e-01],\n",
       "         [-8.6569136e-01]],\n",
       "\n",
       "        [[-1.3752922e+00],\n",
       "         [-1.3596934e-01],\n",
       "         [-1.5951982e+00],\n",
       "         ...,\n",
       "         [ 8.6569136e-01],\n",
       "         [-1.6632617e+00],\n",
       "         [ 4.2851621e-01]],\n",
       "\n",
       "        [[ 3.8630736e+00],\n",
       "         [ 7.2488661e+00],\n",
       "         [ 3.7495348e+00],\n",
       "         ...,\n",
       "         [-8.6569136e-01],\n",
       "         [-1.1338092e+00],\n",
       "         [ 5.1753011e-02]],\n",
       "\n",
       "        ...,\n",
       "\n",
       "        [[-1.7333349e+00],\n",
       "         [ 9.8948586e-01],\n",
       "         [-5.6566261e-02],\n",
       "         ...,\n",
       "         [ 5.7525659e-01],\n",
       "         [-5.9493773e-02],\n",
       "         [ 3.2070875e-01]],\n",
       "\n",
       "        [[ 1.0740508e+00],\n",
       "         [ 8.6569136e-01],\n",
       "         [-1.7872400e+00],\n",
       "         ...,\n",
       "         [ 4.8543176e-01],\n",
       "         [-1.7333349e+00],\n",
       "         [ 9.8948586e-01]],\n",
       "\n",
       "        [[-8.9389503e-02],\n",
       "         [ 1.1551461e+00],\n",
       "         [-1.4855850e+00],\n",
       "         ...,\n",
       "         [ 1.4025847e+00],\n",
       "         [ 2.2258979e-01],\n",
       "         [-1.1551461e+00]]]], dtype=float32)>"
      ]
     },
     "execution_count": 135,
     "metadata": {},
     "output_type": "execute_result"
    }
   ],
   "source": [
    "X_train"
   ]
  },
  {
   "cell_type": "code",
   "execution_count": 136,
   "metadata": {},
   "outputs": [
    {
     "data": {
      "text/plain": [
       "<tensorflow.python.keras.callbacks.History at 0x7f883b8f8a00>"
      ]
     },
     "execution_count": 136,
     "metadata": {},
     "output_type": "execute_result"
    }
   ],
   "source": [
    "cnn.fit(X_train, y_train_cat, epochs=10, validation_data=(X_test, y_test_cat), verbose = 0)"
   ]
  },
  {
   "cell_type": "code",
   "execution_count": null,
   "metadata": {},
   "outputs": [],
   "source": []
  },
  {
   "cell_type": "code",
   "execution_count": 137,
   "metadata": {},
   "outputs": [
    {
     "data": {
      "text/plain": [
       "0.3157894736842105"
      ]
     },
     "execution_count": 137,
     "metadata": {},
     "output_type": "execute_result"
    }
   ],
   "source": [
    "y_pred = tf.argmax(input = cnn.predict(X_test), axis = 1)\n",
    "accuracy_score(y_test, y_pred)"
   ]
  },
  {
   "cell_type": "code",
   "execution_count": null,
   "metadata": {},
   "outputs": [],
   "source": [
    "### Need to fix"
   ]
  },
  {
   "cell_type": "code",
   "execution_count": 138,
   "metadata": {},
   "outputs": [
    {
     "name": "stdout",
     "output_type": "stream",
     "text": [
      "              precision    recall  f1-score   support\n",
      "\n",
      "    complete       0.00      0.00      0.00        13\n",
      "  incomplete       0.32      1.00      0.48         6\n",
      "\n",
      "    accuracy                           0.32        19\n",
      "   macro avg       0.16      0.50      0.24        19\n",
      "weighted avg       0.10      0.32      0.15        19\n",
      "\n"
     ]
    }
   ],
   "source": [
    "target_names = ['complete','incomplete'] # target values\n",
    "\n",
    "# Print classification report after a train/test split:\n",
    "print(classification_report(y_test, y_pred, target_names=target_names))"
   ]
  },
  {
   "cell_type": "code",
   "execution_count": 139,
   "metadata": {},
   "outputs": [
    {
     "data": {
      "text/plain": [
       "(0, 13, 0, 6)"
      ]
     },
     "execution_count": 139,
     "metadata": {},
     "output_type": "execute_result"
    }
   ],
   "source": [
    "tn, fp, fn, tp = confusion_matrix(y_test, y_pred).ravel()\n",
    "(tn, fp, fn, tp)"
   ]
  },
  {
   "cell_type": "code",
   "execution_count": null,
   "metadata": {},
   "outputs": [],
   "source": []
  }
 ],
 "metadata": {
  "kernelspec": {
   "display_name": "Python 3",
   "language": "python",
   "name": "python3"
  },
  "language_info": {
   "codemirror_mode": {
    "name": "ipython",
    "version": 3
   },
   "file_extension": ".py",
   "mimetype": "text/x-python",
   "name": "python",
   "nbconvert_exporter": "python",
   "pygments_lexer": "ipython3",
   "version": "3.8.3"
  }
 },
 "nbformat": 4,
 "nbformat_minor": 4
}
